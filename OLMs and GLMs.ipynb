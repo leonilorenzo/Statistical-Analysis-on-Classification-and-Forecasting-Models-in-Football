{
 "cells": [
  {
   "cell_type": "code",
   "execution_count": null,
   "id": "2d599ced",
   "metadata": {},
   "outputs": [],
   "source": [
    "# This allows us to show the full screen width\n",
    "\n",
    "from IPython.display import display, HTML\n",
    "\n",
    "display(HTML(data=\"\"\"\n",
    "<style>\n",
    "    div#notebook-container    { width: 95%; }\n",
    "    div#menubar-container     { width: 65%; }\n",
    "    div#maintoolbar-container { width: 99%; }\n",
    "</style>\n",
    "\"\"\"))"
   ]
  },
  {
   "cell_type": "code",
   "execution_count": null,
   "id": "ec43ae48",
   "metadata": {},
   "outputs": [],
   "source": [
    "# Load library\n",
    "\n",
    "import pandas as pd\n",
    "import numpy as np\n",
    "import seaborn as sns\n",
    "import statsmodels.formula.api as smf # GLM\n",
    "from sklearn.linear_model import GammaRegressor\n",
    "import statsmodels.api as sm\n",
    "import statsmodels.stats.api as sms\n",
    "from statsmodels.compat import lzip\n",
    "from mlxtend.feature_selection import SequentialFeatureSelector as sfs\n",
    "from sklearn.metrics import confusion_matrix, mean_squared_error, mean_gamma_deviance\n",
    "import csv\n",
    "from bevel.bevel.linear_ordinal_regression import OrderedLogit\n",
    "import matplotlib.pyplot as plt\n",
    "from scipy.stats import shapiro"
   ]
  },
  {
   "cell_type": "markdown",
   "id": "a9f8e56c",
   "metadata": {},
   "source": [
    "# Odds Model"
   ]
  },
  {
   "cell_type": "code",
   "execution_count": null,
   "id": "884ae57c",
   "metadata": {},
   "outputs": [],
   "source": [
    "# Load Odds data\n",
    "\n",
    "Odds = pd.read_csv(\"/Users/lorenzoleoni/Desktop/Materiale Personale/Database/SerieA_Odds.csv\", sep=';', decimal=\".\")\n",
    "\n",
    "Odds.head()"
   ]
  },
  {
   "cell_type": "code",
   "execution_count": null,
   "id": "83f3d0da",
   "metadata": {},
   "outputs": [],
   "source": [
    "# Variable Full Time Result and rename columns\n",
    "\n",
    "Odds.insert(5,'FTR',np.where(Odds['Home_Goals']>Odds['Away_Goals'],'H',np.where(Odds['Home_Goals']==Odds['Away_Goals'],'D','A')))\n",
    "Odds.rename(columns={'Win_Home_Bet':'HBet','Draw_Bet':'DBet','Win_Away_Bet':'ABet'}, inplace=True)"
   ]
  },
  {
   "cell_type": "code",
   "execution_count": null,
   "id": "5bdcd6d7",
   "metadata": {},
   "outputs": [],
   "source": [
    "# Drop the 28 matchweek (models are based on 27 matchweeks)\n",
    "\n",
    "Odds.drop(Odds.index[265:275], inplace=True)"
   ]
  },
  {
   "cell_type": "code",
   "execution_count": null,
   "id": "4c112fb9",
   "metadata": {},
   "outputs": [],
   "source": [
    "# Probabilities from odds\n",
    "\n",
    "Odds['Hprob_Odds'] = (1/Odds['HBet'])/(1/(Odds['HBet'])+1/(Odds['DBet'])+1/(Odds['ABet']))\n",
    "Odds['Dprob_Odds'] = (1/Odds['DBet'])/(1/(Odds['HBet'])+1/(Odds['DBet'])+1/(Odds['ABet']))\n",
    "Odds['Aprob_Odds'] = 1 - Odds['Hprob_Odds'] - Odds['Dprob_Odds']\n",
    "Odds.head()"
   ]
  },
  {
   "cell_type": "code",
   "execution_count": null,
   "id": "2c8d54b2",
   "metadata": {},
   "outputs": [],
   "source": [
    "# Prediction from odds\n",
    "\n",
    "Odds['Odds_pred'] = np.where((Odds['Hprob_Odds']>Odds['Dprob_Odds'])&(Odds['Hprob_Odds']>Odds['Aprob_Odds']),'H',np.where((Odds['Dprob_Odds']>Odds['Hprob_Odds'])&(Odds['Dprob_Odds']>Odds['Aprob_Odds']),'D','A'))\n",
    "Odds.head()"
   ]
  },
  {
   "cell_type": "code",
   "execution_count": null,
   "id": "2e31fef4",
   "metadata": {},
   "outputs": [],
   "source": [
    "# Confusion matrix\n",
    "\n",
    "pd.crosstab(Odds['FTR'], Odds['Odds_pred'],dropna= True)"
   ]
  },
  {
   "cell_type": "code",
   "execution_count": null,
   "id": "0c8c39bd",
   "metadata": {},
   "outputs": [],
   "source": [
    "# Precision for Odds model\n",
    "\n",
    "p_odds = (57+79)/265\n",
    "p_odds"
   ]
  },
  {
   "cell_type": "markdown",
   "id": "434e72bf",
   "metadata": {},
   "source": [
    "# Ordered Logit Model with TM Value Costant"
   ]
  },
  {
   "cell_type": "code",
   "execution_count": null,
   "id": "77e4d028",
   "metadata": {},
   "outputs": [],
   "source": [
    "# Load dataset with all statistics for each game\n",
    "\n",
    "SerieA = pd.read_csv(\"/Users/lorenzoleoni/Desktop/Materiale Personale/Database/SerieA_21_22.csv\", sep=';', decimal=\",\", parse_dates=['Match_Date'],encoding = 'unicode_escape')\n",
    "SerieA.head()"
   ]
  },
  {
   "cell_type": "code",
   "execution_count": null,
   "id": "9d365331",
   "metadata": {},
   "outputs": [],
   "source": [
    "# Variable Win\n",
    "\n",
    "SerieA['Win'] = np.where(SerieA.loc[:,'Home_Score']==SerieA.loc[:,'Away_Score'],'D',np.where(SerieA.loc[:,'Home_Score']>SerieA.loc[:,'Away_Score'],'H','A'))"
   ]
  },
  {
   "cell_type": "code",
   "execution_count": null,
   "id": "cdc4e7b5",
   "metadata": {},
   "outputs": [],
   "source": [
    "# Load TM_Value for each team\n",
    "\n",
    "TM_Value = pd.read_csv(\"/Users/lorenzoleoni/Desktop/Materiale Personale/Database/TM_Value_SerieA21_22.csv\", sep=';')\n",
    "TM_Value.head()"
   ]
  },
  {
   "cell_type": "code",
   "execution_count": null,
   "id": "45b4ebfe",
   "metadata": {},
   "outputs": [],
   "source": [
    "# Variable TM_Value_Home_Team\n",
    "\n",
    "TM_Value.rename(columns={'Team':'Home_Team'}, inplace=True)\n",
    "SerieA = pd.merge(SerieA,TM_Value,on='Home_Team')\n",
    "SerieA.rename(columns={'TM_Value':'TM_Value_Home_Team'}, inplace=True)"
   ]
  },
  {
   "cell_type": "code",
   "execution_count": null,
   "id": "707cadea",
   "metadata": {},
   "outputs": [],
   "source": [
    "# Variable TM_Value_Away_Team\n",
    "\n",
    "TM_Value.rename(columns={'Home_Team':'Away_Team'}, inplace=True)\n",
    "SerieA = pd.merge(SerieA,TM_Value,on='Away_Team')\n",
    "SerieA.rename(columns={'TM_Value':'TM_Value_Away_Team'}, inplace=True)"
   ]
  },
  {
   "cell_type": "code",
   "execution_count": null,
   "id": "47e0b1ac",
   "metadata": {},
   "outputs": [],
   "source": [
    "# Distribution ratio TM value\n",
    "\n",
    "plt.figure(figsize=(14,7)) # Make it 14x7 inch\n",
    "plt.style.use('seaborn-whitegrid') # nice and clean grid\n",
    "\n",
    "plt.hist(SerieA['TM_Value_Home_Team']/SerieA['TM_Value_Away_Team'], bins=30, facecolor = '#2ab0ff', edgecolor='#169acf', linewidth=0.5)\n",
    "\n",
    "plt.title('Ratio TM Value', fontsize=35) \n",
    "plt.xlabel('Distribution', fontsize=28) \n",
    "plt.ylabel('Frequency', fontsize=28)\n",
    "plt.xticks(fontsize=20)\n",
    "plt.yticks(fontsize=20)\n",
    "plt.show()"
   ]
  },
  {
   "cell_type": "code",
   "execution_count": null,
   "id": "c82c4e3c",
   "metadata": {},
   "outputs": [],
   "source": [
    "# Distribution log ratio TM value\n",
    "\n",
    "plt.figure(figsize=(14,7)) # Make it 14x7 inch\n",
    "plt.style.use('seaborn-whitegrid') # nice and clean grid\n",
    "\n",
    "plt.hist(np.log(SerieA['TM_Value_Home_Team']/SerieA['TM_Value_Away_Team']), bins=30, facecolor = '#2ab0ff', edgecolor='#169acf', linewidth=0.5)\n",
    "\n",
    "plt.title('Log Ratio TM Value', fontsize=35) \n",
    "plt.xlabel('Distribution', fontsize=28) \n",
    "plt.ylabel('Frequency', fontsize=28)\n",
    "plt.xticks(fontsize=20)\n",
    "plt.yticks(fontsize=20)\n",
    "plt.show()"
   ]
  },
  {
   "cell_type": "code",
   "execution_count": null,
   "id": "e31cc8f3",
   "metadata": {},
   "outputs": [],
   "source": [
    "# Variable log_ratio_Value\n",
    "\n",
    "SerieA['log_ratio_Value'] = np.log(SerieA.loc[:,'TM_Value_Home_Team']/SerieA.loc[:,'TM_Value_Away_Team'])"
   ]
  },
  {
   "cell_type": "code",
   "execution_count": null,
   "id": "86f57aa1",
   "metadata": {},
   "outputs": [],
   "source": [
    "# Subset Games\n",
    "\n",
    "Games = SerieA.loc[:,['Matchweek','Match_Date','Home_Team','Away_Team','Home_Score','Away_Score','Win','log_ratio_Value','Cup_Home','Cup_Away']].copy()\n",
    "Games.head()"
   ]
  },
  {
   "cell_type": "code",
   "execution_count": null,
   "id": "5e0e397e",
   "metadata": {},
   "outputs": [],
   "source": [
    "# Delete even rows (duplicate games)\n",
    "\n",
    "Games = Games.sort_index(axis=0)\n",
    "Games = Games.iloc[::2]\n",
    "Games = Games.sort_values(by='Matchweek', ascending=True)"
   ]
  },
  {
   "cell_type": "code",
   "execution_count": null,
   "id": "eeb29301",
   "metadata": {
    "scrolled": false
   },
   "outputs": [],
   "source": [
    "# Variable Winvalue\n",
    "\n",
    "Games['Winvalue'] = np.where(Games.loc[:,'Win']=='H',2,np.where(Games.loc[:,'Win']=='D',1,0))"
   ]
  },
  {
   "cell_type": "code",
   "execution_count": null,
   "id": "b990c81f",
   "metadata": {
    "scrolled": true
   },
   "outputs": [],
   "source": [
    "# Create dfs Team Performances, Goals made and conceded and Pythagorean Expectation (it refers up to previous matches)\n",
    "\n",
    "Teams = pd.DataFrame(np.zeros((27,20)),columns=Games['Home_Team'].unique())\n",
    "Goals_for = pd.DataFrame(np.zeros((27,20),dtype=int),columns=Games['Home_Team'].unique())\n",
    "Goals_against = pd.DataFrame(np.zeros((27,20),dtype=int),columns=Games['Home_Team'].unique())"
   ]
  },
  {
   "cell_type": "code",
   "execution_count": null,
   "id": "8795f711",
   "metadata": {},
   "outputs": [],
   "source": [
    "# Dictionary with column indexs for each team\n",
    "\n",
    "names = Games['Home_Team'].unique()\n",
    "\n",
    "mydict = {}\n",
    "\n",
    "for i,name in enumerate(names):\n",
    "    mydict[name] = int(i)\n",
    "    "
   ]
  },
  {
   "cell_type": "code",
   "execution_count": null,
   "id": "dcbb7580",
   "metadata": {
    "scrolled": true
   },
   "outputs": [],
   "source": [
    "# Calculate Team Performances (it refers to the last two games),  Goals made,  Goals conceded and Pythagorean Expectation\n",
    "\n",
    "i = 0\n",
    "k = 0\n",
    "\n",
    "for i in range(0,len(Games)):\n",
    "    \n",
    "    if (Games['Matchweek'].iloc[i-1] < Games['Matchweek'].iloc[i]) & (i>0): # If it was taken the following matchweek\n",
    "        k +=1\n",
    "    \n",
    "    if k < 26:\n",
    "    \n",
    "    ##############################################################################################################################\n",
    "        \n",
    "        # IN THIS SECTION ARE CONSIDERED POSTPONED MATCHS. THE PERFORMANCE OF THE TEAMS THAT HAVE NOT PLAYED ARE \n",
    "        # EQUAL TO THOSE OF THEIR LAST MATCHES\n",
    "\n",
    "    ##############################################################################################################################\n",
    "    \n",
    "        if k == 19:\n",
    "            \n",
    "            Teams.loc[k,'Udinese'] = Teams.loc[k-1,'Udinese']\n",
    "            Teams.loc[k,'Salernitana'] = Teams.loc[k-1,'Salernitana']\n",
    "            \n",
    "            Goals_for.loc[k,'Udinese'] = Goals_for.loc[k-1,'Udinese']\n",
    "            Goals_for.loc[k,'Salernitana'] = Goals_for.loc[k-1,'Salernitana']\n",
    "            \n",
    "            Goals_against.loc[k,'Udinese'] = Goals_against.loc[k-1,'Udinese']\n",
    "            Goals_against.loc[k,'Salernitana'] = Goals_against.loc[k-1,'Salernitana']\n",
    "            \n",
    "        \n",
    "        if k == 20:\n",
    "            \n",
    "            Teams.loc[k,'Fiorentina'] = Teams.loc[k-1,'Fiorentina']\n",
    "            Teams.loc[k,'Udinese'] = Teams.loc[k-1,'Udinese']\n",
    "            \n",
    "            Teams.loc[k,'Bologna'] = Teams.loc[k-1,'Bologna']\n",
    "            Teams.loc[k,'Internazionale'] = Teams.loc[k-1,'Internazionale']\n",
    "            \n",
    "            Teams.loc[k,'Atalanta'] = Teams.loc[k-1,'Atalanta']\n",
    "            Teams.loc[k,'Torino'] = Teams.loc[k-1,'Torino']\n",
    "            \n",
    "            Teams.loc[k,'Salernitana'] = Teams.loc[k-1,'Salernitana']\n",
    "            Teams.loc[k,'Venezia'] = Teams.loc[k-1,'Venezia']\n",
    "            \n",
    "            #\n",
    "            \n",
    "            Goals_for.loc[k,'Fiorentina'] = Goals_for.loc[k-1,'Fiorentina']\n",
    "            Goals_for.loc[k,'Udinese'] = Goals_for.loc[k-1,'Udinese']\n",
    "        \n",
    "            Goals_for.loc[k,'Bologna'] = Goals_for.loc[k-1,'Bologna']\n",
    "            Goals_for.loc[k,'Internazionale'] = Goals_for.loc[k-1,'Internazionale']\n",
    "            \n",
    "            Goals_for.loc[k,'Atalanta'] = Goals_for.loc[k-1,'Atalanta']\n",
    "            Goals_for.loc[k,'Torino'] = Goals_for.loc[k-1,'Torino']\n",
    "            \n",
    "            Goals_for.loc[k,'Salernitana'] = Goals_for.loc[k-1,'Salernitana']\n",
    "            Goals_for.loc[k,'Venezia'] = Goals_for.loc[k-1,'Venezia']\n",
    "            \n",
    "            #\n",
    "            \n",
    "            Goals_against.loc[k,'Fiorentina'] = Goals_against.loc[k-1,'Fiorentina']\n",
    "            Goals_against.loc[k,'Udinese'] = Goals_against.loc[k-1,'Udinese']\n",
    "            \n",
    "            Goals_against.loc[k,'Bologna'] = Goals_against.loc[k-1,'Bologna']\n",
    "            Goals_against.loc[k,'Internazionale'] = Goals_against.loc[k-1,'Internazionale']\n",
    "            \n",
    "            Goals_against.loc[k,'Atalanta'] = Goals_against.loc[k-1,'Atalanta']\n",
    "            Goals_against.loc[k,'Torino'] = Goals_against.loc[k-1,'Torino']\n",
    "            \n",
    "            Goals_against.loc[k,'Salernitana'] = Goals_against.loc[k-1,'Salernitana']\n",
    "            Goals_against.loc[k,'Venezia'] = Goals_against.loc[k-1,'Venezia']\n",
    "            \n",
    "  \n",
    "    ##############################################################################################################################\n",
    "    ##############################################################################################################################\n",
    "        \n",
    "        Goals_for.iloc[k+1,mydict[Games['Home_Team'].iloc[i]]] = Goals_for.iloc[k,mydict[Games['Home_Team'].iloc[i]]] + \\\n",
    "        Games['Home_Score'].iloc[i]\n",
    "        \n",
    "        Goals_for.iloc[k+1,mydict[Games['Away_Team'].iloc[i]]] = Goals_for.iloc[k,mydict[Games['Away_Team'].iloc[i]]] + \\\n",
    "        Games['Away_Score'].iloc[i]\n",
    "        \n",
    "        Goals_against.iloc[k+1,mydict[Games['Home_Team'].iloc[i]]] = Goals_against.iloc[k,mydict[Games['Home_Team'].iloc[i]]] + \\\n",
    "        Games['Away_Score'].iloc[i]\n",
    "        \n",
    "        Goals_against.iloc[k+1,mydict[Games['Away_Team'].iloc[i]]] = Goals_against.iloc[k,mydict[Games['Away_Team'].iloc[i]]] + \\\n",
    "        Games['Home_Score'].iloc[i]\n",
    "        \n",
    "        \n",
    "        # Home Win\n",
    "    \n",
    "        if (Games['Winvalue'].iloc[i] == 2)&(Teams.iloc[k,mydict[Games['Home_Team'].iloc[i]]] <= 1):\n",
    "            Teams.iloc[k+1,mydict[Games['Home_Team'].iloc[i]]] =  Teams.iloc[k,mydict[Games['Home_Team'].iloc[i]]] + 1\n",
    "\n",
    "            if Teams.iloc[k,mydict[Games['Away_Team'].iloc[i]]] >= - 1:\n",
    "                Teams.iloc[k+1,mydict[Games['Away_Team'].iloc[i]]] =  Teams.iloc[k,mydict[Games['Away_Team'].iloc[i]]] - 1\n",
    "\n",
    "            else:\n",
    "                Teams.iloc[k+1,mydict[Games['Away_Team'].iloc[i]]] =  - 2\n",
    "\n",
    "        elif (Games['Winvalue'].iloc[i] == 2)&(Teams.iloc[k,mydict[Games['Home_Team'].iloc[i]]] > 1):\n",
    "            Teams.iloc[k+1,mydict[Games['Home_Team'].iloc[i]]] =  2\n",
    "\n",
    "            if Teams.iloc[k,mydict[Games['Away_Team'].iloc[i]]] >= - 1:\n",
    "                Teams.iloc[k+1,mydict[Games['Away_Team'].iloc[i]]] =  Teams.iloc[k,mydict[Games['Away_Team'].iloc[i]]] - 1\n",
    "\n",
    "            else:\n",
    "                Teams.iloc[k+1,mydict[Games['Away_Team'].iloc[i]]] =  - 2\n",
    "\n",
    "        # Draw\n",
    "\n",
    "        if (Games['Winvalue'].iloc[i] == 1)&(Teams.iloc[k,mydict[Games['Home_Team'].iloc[i]]] >= -1.5):\n",
    "            Teams.iloc[k+1,mydict[Games['Home_Team'].iloc[i]]] =  Teams.iloc[k,mydict[Games['Home_Team'].iloc[i]]] - 0.5\n",
    "\n",
    "            if Teams.iloc[k,mydict[Games['Away_Team'].iloc[i]]] >= - 1.5:\n",
    "                Teams.iloc[k+1,mydict[Games['Away_Team'].iloc[i]]]  =  Teams.iloc[k,mydict[Games['Away_Team'].iloc[i]]] - 0.5\n",
    "\n",
    "            else:\n",
    "                Teams.iloc[k+1,mydict[Games['Away_Team'].iloc[i]]] =  - 2\n",
    "\n",
    "        elif (Games['Winvalue'].iloc[i] == 1)&(Teams.iloc[k,mydict[Games['Home_Team'].iloc[i]]] < -1.5):\n",
    "            Teams.iloc[k+1,mydict[Games['Home_Team'].iloc[i]]] =  - 2\n",
    "\n",
    "            if Teams.iloc[k,mydict[Games['Away_Team'].iloc[i]]] >= - 1.5:\n",
    "                Teams.iloc[k+1,mydict[Games['Away_Team'].iloc[i]]] =  Teams.iloc[k,mydict[Games['Away_Team'].iloc[i]]] - 0.5\n",
    "\n",
    "            else:\n",
    "                Teams.iloc[k+1,mydict[Games['Away_Team'].iloc[i]]] =  - 2\n",
    "\n",
    "        # Away Win\n",
    "\n",
    "        if (Games['Winvalue'].iloc[i] == 0)&(Teams.iloc[k,mydict[Games['Home_Team'].iloc[i]]] >= -1):\n",
    "            Teams.iloc[k+1,mydict[Games['Home_Team'].iloc[i]]] =  Teams.iloc[k,mydict[Games['Home_Team'].iloc[i]]] - 1\n",
    "\n",
    "            if Teams.iloc[k,mydict[Games['Away_Team'].iloc[i]]] <= 1:\n",
    "                Teams.iloc[k+1,mydict[Games['Away_Team'].iloc[i]]] =  Teams.iloc[k,mydict[Games['Away_Team'].iloc[i]]] + 1\n",
    "\n",
    "            else:\n",
    "                Teams.iloc[k+1,mydict[Games['Away_Team'].iloc[i]]] = 2\n",
    "\n",
    "        elif (Games['Winvalue'].iloc[i] == 0)&(Teams.iloc[k,mydict[Games['Home_Team'].iloc[i]]] < -1):\n",
    "            Teams.iloc[k+1,mydict[Games['Home_Team'].iloc[i]]] =  - 2\n",
    "\n",
    "            if Teams.iloc[k,mydict[Games['Away_Team'].iloc[i]]] <= 1:\n",
    "                Teams.iloc[k+1,mydict[Games['Away_Team'].iloc[i]]] =  Teams.iloc[k,mydict[Games['Away_Team'].iloc[i]]] + 1\n",
    "\n",
    "            else:\n",
    "                Teams.iloc[k+1,mydict[Games['Away_Team'].iloc[i]]] = 2\n",
    "            \n",
    "    i +=1\n",
    "    \n",
    "Teams.head(20)"
   ]
  },
  {
   "cell_type": "code",
   "execution_count": null,
   "id": "1caef316",
   "metadata": {},
   "outputs": [],
   "source": [
    "# Subset Games\n",
    "\n",
    "Games = Games[['Matchweek','Match_Date','Home_Team','Away_Team','Win','log_ratio_Value','Cup_Home','Cup_Away','Winvalue']].reset_index(drop = True)"
   ]
  },
  {
   "cell_type": "code",
   "execution_count": null,
   "id": "4498277c",
   "metadata": {
    "scrolled": false
   },
   "outputs": [],
   "source": [
    "# Add variables Performance and Pythagorean expectation for home and away teams created before\n",
    "\n",
    "i = 0\n",
    "k = 0\n",
    "\n",
    "Games['Home_Performance'] = [0]*len(Games)\n",
    "Games['Away_Performance'] = [0]*len(Games)\n",
    "Games['Home_Diff_Goals'] = [0]*len(Games)\n",
    "Games['Away_Diff_Goals'] = [0]*len(Games)\n",
    "\n",
    "for i in range(0,len(Games)):\n",
    "    \n",
    "    if (Games['Matchweek'].iloc[i-1] < Games['Matchweek'].iloc[i]) & (i>0):\n",
    "        k +=1\n",
    "    \n",
    "    if k<= 26:\n",
    "        \n",
    "        Games.loc[i,'Home_Performance'] = Teams.iloc[k,mydict[Games['Home_Team'].iloc[i]]]\n",
    "        Games.loc[i,'Away_Performance'] = Teams.iloc[k,mydict[Games['Away_Team'].iloc[i]]]\n",
    "        \n",
    "        Games.loc[i,'Home_Diff_Goals'] = Goals_for.iloc[k,mydict[Games['Home_Team'].iloc[i]]] - Goals_against.iloc[k,mydict[Games['Home_Team'].iloc[i]]]\n",
    "        Games.loc[i,'Away_Diff_Goals'] = Goals_for.iloc[k,mydict[Games['Away_Team'].iloc[i]]] - Goals_against.iloc[k,mydict[Games['Away_Team'].iloc[i]]]\n",
    "        \n",
    "    i += 1\n",
    "    \n",
    "#Games"
   ]
  },
  {
   "cell_type": "code",
   "execution_count": null,
   "id": "d1671d48",
   "metadata": {},
   "outputs": [],
   "source": [
    "# Save pandas for statistical inference in R\n",
    "\n",
    "Games.to_csv(\"/Users/lorenzoleoni/Desktop/Materiale Personale/Database/OLM.csv\",index=False)"
   ]
  },
  {
   "cell_type": "markdown",
   "id": "e959fb0c",
   "metadata": {},
   "source": [
    "## MAIN + DIFF"
   ]
  },
  {
   "cell_type": "code",
   "execution_count": null,
   "id": "1ec3a4b7",
   "metadata": {
    "scrolled": true
   },
   "outputs": [],
   "source": [
    "# ORDERED LOGIT MODEL WITH TM VALUES COSTANT MAIN + DIFF\n",
    "\n",
    "TMValue_Costant = OrderedLogit()\n",
    "\n",
    "Regressors = Games[['log_ratio_Value','Home_Performance','Away_Performance', 'Home_Diff_Goals','Away_Diff_Goals']]\n",
    "\n",
    "TMValue_Costant.fit(Regressors, Games['Winvalue'])\n",
    "\n",
    "TMValue_Costant.print_summary()"
   ]
  },
  {
   "cell_type": "code",
   "execution_count": null,
   "id": "997ce5d3",
   "metadata": {},
   "outputs": [],
   "source": [
    "# Predicted probabilities Main + Diff\n",
    "\n",
    "Games['Aprob_TMValue_Costant'] = 1/(1+np.exp(-(TMValue_Costant.coef_[5]\\\n",
    "                                               -TMValue_Costant.coef_[0]*Games['log_ratio_Value']\\\n",
    "                                               -TMValue_Costant.coef_[1]*Games['Home_Performance']\\\n",
    "                                               -TMValue_Costant.coef_[2]*Games['Away_Performance']\\\n",
    "                                               -TMValue_Costant.coef_[3]*Games['Home_Diff_Goals']\\\n",
    "                                               -TMValue_Costant.coef_[4]*Games['Away_Diff_Goals'])))\n",
    "\n",
    "Games['Dprob_TMValue_Costant'] = 1/(1+np.exp(-(TMValue_Costant.coef_[6]\\\n",
    "                                               -TMValue_Costant.coef_[0]*Games['log_ratio_Value']\\\n",
    "                                               -TMValue_Costant.coef_[1]*Games['Home_Performance']\\\n",
    "                                               -TMValue_Costant.coef_[2]*Games['Away_Performance']\\\n",
    "                                               -TMValue_Costant.coef_[3]*Games['Home_Diff_Goals']\\\n",
    "                                               -TMValue_Costant.coef_[4]*Games['Away_Diff_Goals'])))\\\n",
    "                                               - Games['Aprob_TMValue_Costant']\n",
    "\n",
    "Games['Hprob_TMValue_Costant'] = 1 - Games['Aprob_TMValue_Costant'] - Games['Dprob_TMValue_Costant']"
   ]
  },
  {
   "cell_type": "code",
   "execution_count": null,
   "id": "0c386116",
   "metadata": {
    "scrolled": true
   },
   "outputs": [],
   "source": [
    "# Result prediction Main + Diff\n",
    "\n",
    "Maxprob = Games[['Aprob_TMValue_Costant','Dprob_TMValue_Costant','Hprob_TMValue_Costant']].max(axis=1)\n",
    "\n",
    "Games['TMValue_Costant_pred']=np.where(Maxprob == Games['Aprob_TMValue_Costant'],'A',\\\n",
    "                               np.where(Maxprob == Games['Dprob_TMValue_Costant'],'D','H'))"
   ]
  },
  {
   "cell_type": "code",
   "execution_count": null,
   "id": "ca820fa1",
   "metadata": {},
   "outputs": [],
   "source": [
    "# Confusion matrix Main + Diff\n",
    "\n",
    "pd.crosstab(Games['Win'], Games['TMValue_Costant_pred'],dropna= True)"
   ]
  },
  {
   "cell_type": "code",
   "execution_count": null,
   "id": "7e56d08f",
   "metadata": {
    "scrolled": true
   },
   "outputs": [],
   "source": [
    "# Precision for model TMValue_costant Main + Diff\n",
    "\n",
    "p_TMValue_Costant = (62+77)/265\n",
    "\n",
    "p_TMValue_Costant"
   ]
  },
  {
   "cell_type": "markdown",
   "id": "77e92884",
   "metadata": {},
   "source": [
    "## MAIN + CUP"
   ]
  },
  {
   "cell_type": "code",
   "execution_count": null,
   "id": "c82ad8bf",
   "metadata": {},
   "outputs": [],
   "source": [
    "# ORDERED LOGIT MODEL WITH TM VALUES COSTANT MAIN + CUP\n",
    "\n",
    "TMValue_Costant = OrderedLogit()\n",
    "\n",
    "Regressors = Games[['log_ratio_Value','Home_Performance','Away_Performance', 'Cup_Home','Cup_Away']]\n",
    "\n",
    "TMValue_Costant.fit(Regressors, Games['Winvalue'])\n",
    "\n",
    "TMValue_Costant.print_summary()"
   ]
  },
  {
   "cell_type": "code",
   "execution_count": null,
   "id": "26e470e8",
   "metadata": {},
   "outputs": [],
   "source": [
    "# Predicted probabilities Main + Cup\n",
    "\n",
    "Games['Aprob_TMValue_Costant'] = 1/(1+np.exp(-(TMValue_Costant.coef_[5]\\\n",
    "                                               -TMValue_Costant.coef_[0]*Games['log_ratio_Value']\\\n",
    "                                               -TMValue_Costant.coef_[1]*Games['Home_Performance']\\\n",
    "                                               -TMValue_Costant.coef_[2]*Games['Away_Performance'] \\\n",
    "                                               -TMValue_Costant.coef_[3]*Games['Cup_Home']\\\n",
    "                                               -TMValue_Costant.coef_[4]*Games['Cup_Away'])))\n",
    "\n",
    "Games['Dprob_TMValue_Costant'] = 1/(1+np.exp(-(TMValue_Costant.coef_[6]\\\n",
    "                                               -TMValue_Costant.coef_[0]*Games['log_ratio_Value']\\\n",
    "                                               -TMValue_Costant.coef_[1]*Games['Home_Performance']\\\n",
    "                                               -TMValue_Costant.coef_[2]*Games['Away_Performance']\\\n",
    "                                               -TMValue_Costant.coef_[3]*Games['Cup_Home']\\\n",
    "                                               -TMValue_Costant.coef_[4]*Games['Cup_Away'])))\\\n",
    "                                               - Games['Aprob_TMValue_Costant']\n",
    "\n",
    "Games['Hprob_TMValue_Costant'] = 1 - Games['Aprob_TMValue_Costant'] - Games['Dprob_TMValue_Costant']"
   ]
  },
  {
   "cell_type": "code",
   "execution_count": null,
   "id": "d538f245",
   "metadata": {},
   "outputs": [],
   "source": [
    "# Result prediction Main + Cup\n",
    "\n",
    "Maxprob = Games[['Aprob_TMValue_Costant','Dprob_TMValue_Costant','Hprob_TMValue_Costant']].max(axis=1)\n",
    "\n",
    "Games['TMValue_Costant_pred']=np.where(Maxprob == Games['Aprob_TMValue_Costant'],'A',\\\n",
    "                               np.where(Maxprob == Games['Dprob_TMValue_Costant'],'D','H'))"
   ]
  },
  {
   "cell_type": "code",
   "execution_count": null,
   "id": "443a31dd",
   "metadata": {},
   "outputs": [],
   "source": [
    "# Confusion matrix Main + Cup\n",
    "\n",
    "pd.crosstab(Games['Win'], Games['TMValue_Costant_pred'],dropna= True)"
   ]
  },
  {
   "cell_type": "code",
   "execution_count": null,
   "id": "aaaec546",
   "metadata": {
    "scrolled": true
   },
   "outputs": [],
   "source": [
    "# Precision for model TMValue_costant Main + Cup\n",
    "\n",
    "p_TMValue_Costant = (65+78)/265\n",
    "\n",
    "p_TMValue_Costant"
   ]
  },
  {
   "cell_type": "markdown",
   "id": "dfeeafad",
   "metadata": {},
   "source": [
    "## MAIN (Best)"
   ]
  },
  {
   "cell_type": "code",
   "execution_count": null,
   "id": "5341187d",
   "metadata": {},
   "outputs": [],
   "source": [
    "# ORDERED LOGIT MODEL WITH TM VALUES COSTANT MAIN\n",
    "\n",
    "TMValue_Costant = OrderedLogit()\n",
    "\n",
    "Regressors = Games[['log_ratio_Value','Home_Performance','Away_Performance']]\n",
    "\n",
    "TMValue_Costant.fit(Regressors, Games['Winvalue'])\n",
    "\n",
    "TMValue_Costant.print_summary()"
   ]
  },
  {
   "cell_type": "code",
   "execution_count": null,
   "id": "9978737a",
   "metadata": {},
   "outputs": [],
   "source": [
    "# Predicted probabilities Main\n",
    "\n",
    "Games['Aprob_TMValue_Costant'] = 1/(1+np.exp(-(TMValue_Costant.coef_[3]\\\n",
    "                                               -TMValue_Costant.coef_[0]*Games['log_ratio_Value']\n",
    "                                               -TMValue_Costant.coef_[1]*Games['Home_Performance']\\\n",
    "                                               -TMValue_Costant.coef_[2]*Games['Away_Performance'])))\n",
    "\n",
    "Games['Dprob_TMValue_Costant'] = 1/(1+np.exp(-(TMValue_Costant.coef_[4]\\\n",
    "                                               -TMValue_Costant.coef_[0]*Games['log_ratio_Value']\\\n",
    "                                               -TMValue_Costant.coef_[1]*Games['Home_Performance']\\\n",
    "                                               -TMValue_Costant.coef_[2]*Games['Away_Performance'])))\\\n",
    "                                               -Games['Aprob_TMValue_Costant']\n",
    "\n",
    "Games['Hprob_TMValue_Costant'] = 1 - Games['Aprob_TMValue_Costant'] - Games['Dprob_TMValue_Costant']"
   ]
  },
  {
   "cell_type": "code",
   "execution_count": null,
   "id": "68a15418",
   "metadata": {},
   "outputs": [],
   "source": [
    "# Result prediction Main\n",
    "\n",
    "Maxprob = Games[['Aprob_TMValue_Costant','Dprob_TMValue_Costant','Hprob_TMValue_Costant']].max(axis=1)\n",
    "\n",
    "Games['TMValue_Costant_pred']=np.where(Maxprob == Games['Aprob_TMValue_Costant'],'A',\\\n",
    "                               np.where(Maxprob == Games['Dprob_TMValue_Costant'],'D','H'))"
   ]
  },
  {
   "cell_type": "code",
   "execution_count": null,
   "id": "6c30117d",
   "metadata": {},
   "outputs": [],
   "source": [
    "# Confusion matrix Main\n",
    "\n",
    "pd.crosstab(Games['Win'], Games['TMValue_Costant_pred'],dropna= True)"
   ]
  },
  {
   "cell_type": "code",
   "execution_count": null,
   "id": "53d09b28",
   "metadata": {},
   "outputs": [],
   "source": [
    "# Precision for model TMValue_costant Main\n",
    "\n",
    "p_TMValue_Costant = (66+78)/265\n",
    "\n",
    "p_TMValue_Costant"
   ]
  },
  {
   "cell_type": "markdown",
   "id": "ce090cd1",
   "metadata": {},
   "source": [
    "# Ordered Logit Model with TM Value for each Lineups"
   ]
  },
  {
   "cell_type": "code",
   "execution_count": null,
   "id": "d73c2899",
   "metadata": {},
   "outputs": [],
   "source": [
    "# Lineups and TM Value\n",
    "\n",
    "ln_TM = pd.read_csv(\"/Users/lorenzoleoni/Desktop/Materiale Personale/Database/ln_TM.csv\", sep=',', parse_dates=['Matchday'])\n",
    "\n",
    "ln_TM.sort_values(by=['Matchday','Team'], ascending=[True,True], inplace=True)\n",
    "\n",
    "ln_TM.reset_index(drop=True, inplace=True)\n",
    "\n",
    "ln_TM"
   ]
  },
  {
   "cell_type": "code",
   "execution_count": null,
   "id": "91473786",
   "metadata": {},
   "outputs": [],
   "source": [
    "# Drop matchweek 28 (the analysis is based on 27 matchweek)\n",
    "\n",
    "i = 0\n",
    "\n",
    "for i in range(0,len(ln_TM)):\n",
    "    \n",
    "    if ln_TM.loc[i,'Matchday'] > pd.to_datetime('2022-02-28'):\n",
    "        \n",
    "        ln_TM.drop(i,axis=0,inplace=True)"
   ]
  },
  {
   "cell_type": "code",
   "execution_count": null,
   "id": "e5f6f614",
   "metadata": {},
   "outputs": [],
   "source": [
    "# Create columns for TM value of lineups for each match\n",
    "\n",
    "Games['ln_TM_Home'] = [0]*len(Games)\n",
    "\n",
    "Games['ln_TM_Away'] = [0]*len(Games)"
   ]
  },
  {
   "cell_type": "code",
   "execution_count": null,
   "id": "46f87ab5",
   "metadata": {},
   "outputs": [],
   "source": [
    "# Real contribution of a player in the lineup value of the team in each match\n",
    "\n",
    "ln_TM['TMValue_Contribution'] = (ln_TM['TMValue']*ln_TM['Min'])/90"
   ]
  },
  {
   "cell_type": "code",
   "execution_count": null,
   "id": "fcfa5372",
   "metadata": {},
   "outputs": [],
   "source": [
    "Tot_TMValue_Lineups = ln_TM.groupby(['Matchday','Team'])['TMValue_Contribution'].sum().reset_index()\n",
    "\n",
    "Tot_TMValue_Lineups.head()"
   ]
  },
  {
   "cell_type": "code",
   "execution_count": null,
   "id": "d0e47d51",
   "metadata": {
    "scrolled": true
   },
   "outputs": [],
   "source": [
    "# Sum of the value of each player in the lineups in each match\n",
    "\n",
    "i = 0\n",
    "\n",
    "for i in range(0,len(Games)):\n",
    "    \n",
    "    for k in range(0,len(Tot_TMValue_Lineups)):\n",
    "        \n",
    "        if (Tot_TMValue_Lineups.loc[k,'Matchday'] == Games.loc[i,'Match_Date'])&(Tot_TMValue_Lineups.loc[k,'Team'] == Games.loc[i,'Home_Team']):\n",
    "            \n",
    "            Games.loc[i,'ln_TM_Home'] = Tot_TMValue_Lineups.loc[k,'TMValue_Contribution']\n",
    "            \n",
    "        if (Tot_TMValue_Lineups.loc[k,'Matchday'] == Games.loc[i,'Match_Date'])&(Tot_TMValue_Lineups.loc[k,'Team'] == Games.loc[i,'Away_Team']):\n",
    "            \n",
    "            Games.loc[i,'ln_TM_Away'] = Tot_TMValue_Lineups.loc[k,'TMValue_Contribution']\n",
    "            \n",
    "Games.head()"
   ]
  },
  {
   "cell_type": "code",
   "execution_count": null,
   "id": "d2065a0b",
   "metadata": {},
   "outputs": [],
   "source": [
    "# Distribution ratio ln TM value\n",
    "\n",
    "plt.figure(figsize=(14,7)) # Make it 14x7 inch\n",
    "\n",
    "plt.style.use('seaborn-whitegrid') # nice and clean grid\n",
    "\n",
    "plt.hist(Games['ln_TM_Home']/Games['ln_TM_Away'], bins=30, facecolor = '#2ab0ff', edgecolor='#169acf', linewidth=0.5)\n",
    "\n",
    "plt.title('Ratio ln TM Value', fontsize=35)\n",
    "\n",
    "plt.xlabel('Distribution', fontsize=28) \n",
    "\n",
    "plt.ylabel('Frequency', fontsize=28)\n",
    "\n",
    "plt.xticks(fontsize=20)\n",
    "\n",
    "plt.yticks(fontsize=20)\n",
    "\n",
    "plt.show()"
   ]
  },
  {
   "cell_type": "code",
   "execution_count": null,
   "id": "8fdbf765",
   "metadata": {},
   "outputs": [],
   "source": [
    "# Distribution log ratio ln TM value\n",
    "\n",
    "plt.figure(figsize=(14,7)) # Make it 14x7 inch\n",
    "\n",
    "plt.style.use('seaborn-whitegrid') # nice and clean grid\n",
    "\n",
    "plt.hist(np.log(Games['ln_TM_Home']/Games['ln_TM_Away']), bins=30, facecolor = '#2ab0ff', edgecolor='#169acf', linewidth=0.5)\n",
    "\n",
    "plt.title('Log Ratio ln TM Value', fontsize=35) \n",
    "\n",
    "plt.xlabel('Distribution', fontsize=28) \n",
    "\n",
    "plt.ylabel('Frequency', fontsize=28)\n",
    "\n",
    "plt.xticks(fontsize=20)\n",
    "\n",
    "plt.yticks(fontsize=20)\n",
    "\n",
    "plt.show()"
   ]
  },
  {
   "cell_type": "code",
   "execution_count": null,
   "id": "af0fd0f0",
   "metadata": {
    "scrolled": true
   },
   "outputs": [],
   "source": [
    "# Variable log_ratio_ln_TM\n",
    "\n",
    "Games['log_ratio_ln_TM'] = np.log(Games.loc[:,'ln_TM_Home']/Games.loc[:,'ln_TM_Away'])"
   ]
  },
  {
   "cell_type": "code",
   "execution_count": null,
   "id": "a5a17534",
   "metadata": {},
   "outputs": [],
   "source": [
    "# Save pandas for statistical inference in R\n",
    "\n",
    "Games.to_csv(\"/Users/lorenzoleoni/Desktop/Materiale Personale/Database/OLM_ln.csv\",index=False)"
   ]
  },
  {
   "cell_type": "markdown",
   "id": "4a6ee7a8",
   "metadata": {},
   "source": [
    "## MAIN + CUP"
   ]
  },
  {
   "cell_type": "code",
   "execution_count": null,
   "id": "1a0f3ba0",
   "metadata": {},
   "outputs": [],
   "source": [
    "# ORDERED LOGIT MODEL WITH TM VALUE FOR EACH LINEUPS MAIN + CUP\n",
    "\n",
    "TMValue_Lineups = OrderedLogit()\n",
    "\n",
    "Regressors = Games[['log_ratio_ln_TM','Home_Performance','Away_Performance','Cup_Home','Cup_Away']]\n",
    "\n",
    "TMValue_Lineups.fit(Regressors, Games['Winvalue'])\n",
    "\n",
    "TMValue_Lineups.print_summary()"
   ]
  },
  {
   "cell_type": "code",
   "execution_count": null,
   "id": "7e12e348",
   "metadata": {},
   "outputs": [],
   "source": [
    "# Predicted probabilities Main + Cup\n",
    "\n",
    "Games['Aprob_TMValue_Lineups'] = 1/(1+np.exp(-(TMValue_Lineups.coef_[5]\\\n",
    "                               -TMValue_Lineups.coef_[0]*Games['log_ratio_ln_TM']\\\n",
    "                               -TMValue_Lineups.coef_[1]*Games['Home_Performance']\\\n",
    "                               -TMValue_Lineups.coef_[2]*Games['Away_Performance']\\\n",
    "                               -TMValue_Lineups.coef_[3]*Games['Cup_Home']\\\n",
    "                               -TMValue_Lineups.coef_[4]*Games['Cup_Away'])))\n",
    "\n",
    "Games['Dprob_TMValue_Lineups'] = 1/(1+np.exp(-(TMValue_Lineups.coef_[6]\\\n",
    "                               -TMValue_Lineups.coef_[0]*Games['log_ratio_ln_TM']\\\n",
    "                               -TMValue_Lineups.coef_[1]*Games['Home_Performance']\\\n",
    "                               -TMValue_Lineups.coef_[2]*Games['Away_Performance']\\\n",
    "                               -TMValue_Lineups.coef_[3]*Games['Cup_Home']\\\n",
    "                               -TMValue_Lineups.coef_[4]*Games['Cup_Away'])))\\\n",
    "                               -Games['Aprob_TMValue_Lineups']\n",
    "\n",
    "Games['Hprob_TMValue_Lineups'] = 1 - Games['Aprob_TMValue_Lineups'] - Games['Dprob_TMValue_Lineups']"
   ]
  },
  {
   "cell_type": "code",
   "execution_count": null,
   "id": "dcb2a2fc",
   "metadata": {},
   "outputs": [],
   "source": [
    "# Result prediction Main + Cup\n",
    "\n",
    "Maxprob = Games[['Aprob_TMValue_Lineups','Dprob_TMValue_Lineups','Hprob_TMValue_Lineups']].max(axis=1)\n",
    "\n",
    "Games['TMValue_Lineups_pred']=np.where(Maxprob == Games['Aprob_TMValue_Lineups'],'A',\\\n",
    "                               np.where(Maxprob == Games['Dprob_TMValue_Lineups'],'D','H'))"
   ]
  },
  {
   "cell_type": "code",
   "execution_count": null,
   "id": "ae464c97",
   "metadata": {},
   "outputs": [],
   "source": [
    "# Confusion matrix Main + Cup\n",
    "\n",
    "pd.crosstab(Games['Win'], Games['TMValue_Lineups_pred'],dropna= True)"
   ]
  },
  {
   "cell_type": "code",
   "execution_count": null,
   "id": "82018231",
   "metadata": {},
   "outputs": [],
   "source": [
    "# Precision for model TMValue_lineups Main + Cup\n",
    "\n",
    "p_TMValue_Lineups = (63+78+2)/265\n",
    "\n",
    "p_TMValue_Lineups"
   ]
  },
  {
   "cell_type": "markdown",
   "id": "fe0ab95b",
   "metadata": {},
   "source": [
    "## MAIN"
   ]
  },
  {
   "cell_type": "code",
   "execution_count": null,
   "id": "d3dc09cb",
   "metadata": {},
   "outputs": [],
   "source": [
    "# ORDERED LOGIT MODEL WITH TM VALUE FOR EACH LINEUPS MAIN\n",
    "\n",
    "TMValue_Lineups = OrderedLogit()\n",
    "\n",
    "Regressors = Games[['log_ratio_ln_TM','Home_Performance','Away_Performance']]\n",
    "\n",
    "TMValue_Lineups.fit(Regressors, Games['Winvalue'])\n",
    "\n",
    "TMValue_Lineups.print_summary()"
   ]
  },
  {
   "cell_type": "code",
   "execution_count": null,
   "id": "654bdf07",
   "metadata": {},
   "outputs": [],
   "source": [
    "# Predicted probabilities Main\n",
    "\n",
    "Games['Aprob_TMValue_Lineups'] = 1/(1+np.exp(-(TMValue_Lineups.coef_[3]\\\n",
    "                               -TMValue_Lineups.coef_[0]*Games['log_ratio_ln_TM']\\\n",
    "                               -TMValue_Lineups.coef_[1]*Games['Home_Performance']\\\n",
    "                               -TMValue_Lineups.coef_[2]*Games['Away_Performance'])))\n",
    "\n",
    "Games['Dprob_TMValue_Lineups'] = 1/(1+np.exp(-(TMValue_Lineups.coef_[4]\\\n",
    "                               -TMValue_Lineups.coef_[0]*Games['log_ratio_ln_TM']\\\n",
    "                               -TMValue_Lineups.coef_[1]*Games['Home_Performance']\\\n",
    "                               -TMValue_Lineups.coef_[2]*Games['Away_Performance'])))\\\n",
    "                               -Games['Aprob_TMValue_Lineups']\n",
    "\n",
    "Games['Hprob_TMValue_Lineups'] = 1 - Games['Aprob_TMValue_Lineups'] - Games['Dprob_TMValue_Lineups']"
   ]
  },
  {
   "cell_type": "code",
   "execution_count": null,
   "id": "db985475",
   "metadata": {},
   "outputs": [],
   "source": [
    "# Result prediction Main\n",
    "\n",
    "Maxprob = Games[['Aprob_TMValue_Lineups','Dprob_TMValue_Lineups','Hprob_TMValue_Lineups']].max(axis=1)\n",
    "\n",
    "Games['TMValue_Lineups_pred']=np.where(Maxprob == Games['Aprob_TMValue_Lineups'],'A',\\\n",
    "                               np.where(Maxprob == Games['Dprob_TMValue_Lineups'],'D','H'))"
   ]
  },
  {
   "cell_type": "code",
   "execution_count": null,
   "id": "8fb6ea38",
   "metadata": {},
   "outputs": [],
   "source": [
    "# Confusion matrix Main\n",
    "\n",
    "pd.crosstab(Games['Win'], Games['TMValue_Lineups_pred'],dropna= True)"
   ]
  },
  {
   "cell_type": "code",
   "execution_count": null,
   "id": "e3793a54",
   "metadata": {},
   "outputs": [],
   "source": [
    "# Precision for model TMValue_lineups Main\n",
    "\n",
    "p_TMValue_Lineups = (64+1+77)/265\n",
    "\n",
    "p_TMValue_Lineups"
   ]
  },
  {
   "cell_type": "markdown",
   "id": "d98dd0ff",
   "metadata": {},
   "source": [
    "## MAIN + DIFF (Best)"
   ]
  },
  {
   "cell_type": "code",
   "execution_count": null,
   "id": "ce8472df",
   "metadata": {},
   "outputs": [],
   "source": [
    "# ORDERED LOGIT MODEL WITH TM VALUE FOR EACH LINEUPS MAIN + DIFF\n",
    "\n",
    "TMValue_Lineups = OrderedLogit()\n",
    "\n",
    "Regressors = Games[['log_ratio_ln_TM','Home_Performance','Away_Performance','Home_Diff_Goals','Away_Diff_Goals']]\n",
    "\n",
    "TMValue_Lineups.fit(Regressors, Games['Winvalue'])\n",
    "\n",
    "TMValue_Lineups.print_summary()"
   ]
  },
  {
   "cell_type": "code",
   "execution_count": null,
   "id": "00ba5449",
   "metadata": {},
   "outputs": [],
   "source": [
    "# Predicted probabilities Main + Diff\n",
    "\n",
    "Games['Aprob_TMValue_Lineups'] = 1/(1+np.exp(-(TMValue_Lineups.coef_[5]\\\n",
    "                               -TMValue_Lineups.coef_[0]*Games['log_ratio_ln_TM']\\\n",
    "                               -TMValue_Lineups.coef_[1]*Games['Home_Performance']\\\n",
    "                               -TMValue_Lineups.coef_[2]*Games['Away_Performance']\\\n",
    "                               -TMValue_Lineups.coef_[3]*Games['Home_Diff_Goals']\\\n",
    "                               -TMValue_Lineups.coef_[4]*Games['Away_Diff_Goals'])))\n",
    "\n",
    "Games['Dprob_TMValue_Lineups'] = 1/(1+np.exp(-(TMValue_Lineups.coef_[6]\\\n",
    "                               -TMValue_Lineups.coef_[0]*Games['log_ratio_ln_TM']\\\n",
    "                               -TMValue_Lineups.coef_[1]*Games['Home_Performance']\\\n",
    "                               -TMValue_Lineups.coef_[2]*Games['Away_Performance']\\\n",
    "                               -TMValue_Lineups.coef_[3]*Games['Home_Diff_Goals']\\\n",
    "                               -TMValue_Lineups.coef_[4]*Games['Away_Diff_Goals'])))\\\n",
    "                               -Games['Aprob_TMValue_Lineups']\n",
    "\n",
    "Games['Hprob_TMValue_Lineups'] = 1 - Games['Aprob_TMValue_Lineups'] - Games['Dprob_TMValue_Lineups']"
   ]
  },
  {
   "cell_type": "code",
   "execution_count": null,
   "id": "2597599c",
   "metadata": {},
   "outputs": [],
   "source": [
    "# Result prediction Main + Diff\n",
    "\n",
    "Maxprob = Games[['Aprob_TMValue_Lineups','Dprob_TMValue_Lineups','Hprob_TMValue_Lineups']].max(axis=1)\n",
    "\n",
    "Games['TMValue_Lineups_pred']=np.where(Maxprob == Games['Aprob_TMValue_Lineups'],'A',\\\n",
    "                               np.where(Maxprob == Games['Dprob_TMValue_Lineups'],'D','H'))"
   ]
  },
  {
   "cell_type": "code",
   "execution_count": null,
   "id": "a64e1130",
   "metadata": {},
   "outputs": [],
   "source": [
    "# Confusion matrix Main + Diff\n",
    "\n",
    "pd.crosstab(Games['Win'], Games['TMValue_Lineups_pred'],dropna= True)"
   ]
  },
  {
   "cell_type": "code",
   "execution_count": null,
   "id": "11d26cda",
   "metadata": {},
   "outputs": [],
   "source": [
    "# Precision for model TMValue_lineups Main + Diff\n",
    "\n",
    "p_TMValue_Lineups = (68+5+76)/265\n",
    "\n",
    "p_TMValue_Lineups"
   ]
  },
  {
   "cell_type": "markdown",
   "id": "f72d83ea",
   "metadata": {},
   "source": [
    "# Ordered Logit Model with Elo"
   ]
  },
  {
   "cell_type": "code",
   "execution_count": null,
   "id": "abc71c35",
   "metadata": {},
   "outputs": [],
   "source": [
    "# Load Elo data\n",
    "\n",
    "Elo = pd.read_csv(\"/Users/lorenzoleoni/Desktop/Materiale Personale/Database/Elo.csv\", sep=';', decimal=\",\", parse_dates=['Date'])\n",
    "\n",
    "Elo"
   ]
  },
  {
   "cell_type": "code",
   "execution_count": null,
   "id": "53753b09",
   "metadata": {
    "scrolled": true
   },
   "outputs": [],
   "source": [
    "# Save Elo for each home and away team\n",
    "\n",
    "Games['Elo_Home'] = [0]*len(Games)\n",
    "\n",
    "Games['Elo_Away'] = [0]*len(Games)\n",
    "\n",
    "i = 0\n",
    "\n",
    "k = 0\n",
    "\n",
    "for i in range(0,len(Games)):\n",
    "    \n",
    "    while Games.loc[i,'Match_Date'] > Elo[Elo['Team']==Games.loc[i,'Home_Team']].iloc[k,2]: # 2 -> Date\n",
    "\n",
    "        k += 1\n",
    "        \n",
    "    Games.loc[i,'Elo_Home'] = Elo[Elo['Team']==Games.loc[i,'Home_Team']].iloc[k-1,1] # 1 -> Elo\n",
    "    \n",
    "    k = 0\n",
    "    \n",
    "    while Games.loc[i,'Match_Date'] > Elo[Elo['Team']==Games.loc[i,'Away_Team']].iloc[k,2]:\n",
    "        \n",
    "        k += 1\n",
    "        \n",
    "    Games.loc[i,'Elo_Away'] = Elo[Elo['Team']==Games.loc[i,'Away_Team']].iloc[k-1,1]\n",
    "    \n",
    "    k = 0"
   ]
  },
  {
   "cell_type": "code",
   "execution_count": null,
   "id": "bca85046",
   "metadata": {},
   "outputs": [],
   "source": [
    "# Distribution ratio Elo\n",
    "\n",
    "plt.figure(figsize=(14,7)) # Make it 14x7 inch\n",
    "\n",
    "plt.style.use('seaborn-whitegrid') # nice and clean grid\n",
    "\n",
    "plt.hist(Games['Elo_Home']/Games['Elo_Away'], bins=30, facecolor = '#2ab0ff', edgecolor='#169acf', linewidth=0.5)\n",
    "\n",
    "plt.title('Ratio Elo', fontsize=35) \n",
    "\n",
    "plt.xlabel('Distribution', fontsize=28) \n",
    "\n",
    "plt.ylabel('Frequency', fontsize=28)\n",
    "\n",
    "plt.xticks(fontsize=20)\n",
    "\n",
    "plt.yticks(fontsize=20)\n",
    "\n",
    "plt.show()"
   ]
  },
  {
   "cell_type": "code",
   "execution_count": null,
   "id": "4e487d0a",
   "metadata": {},
   "outputs": [],
   "source": [
    "# Variable log_ratio_Elo\n",
    "\n",
    "Games['ratio_Elo'] = Games['Elo_Home']/Games['Elo_Away']"
   ]
  },
  {
   "cell_type": "code",
   "execution_count": null,
   "id": "a761016e",
   "metadata": {},
   "outputs": [],
   "source": [
    "# Save pandas for statistical inference in R\n",
    "\n",
    "Games.to_csv(\"/Users/lorenzoleoni/Desktop/Materiale Personale/Database/OLM_elo.csv\",index=False)"
   ]
  },
  {
   "cell_type": "markdown",
   "id": "819fcb2b",
   "metadata": {},
   "source": [
    "## MAIN + CUP"
   ]
  },
  {
   "cell_type": "code",
   "execution_count": null,
   "id": "a51b2958",
   "metadata": {
    "scrolled": false
   },
   "outputs": [],
   "source": [
    "# ORDERED LOGIT MODEL WITH ELO MAIN + CUP\n",
    "\n",
    "Elo = OrderedLogit()\n",
    "\n",
    "Regressors = Games[['log_ratio_ln_TM','Home_Performance','Away_Performance','ratio_Elo','Cup_Home','Cup_Away']]\n",
    "\n",
    "Elo.fit(Regressors, Games['Winvalue'])\n",
    "\n",
    "Elo.print_summary()"
   ]
  },
  {
   "cell_type": "code",
   "execution_count": null,
   "id": "b5fca9f5",
   "metadata": {},
   "outputs": [],
   "source": [
    "# Predicted probabilities Main + Cup\n",
    "\n",
    "Games['Aprob_Elo'] = 1/(1+np.exp(-(Elo.coef_[6]\\\n",
    "                               -Elo.coef_[0]*Games['log_ratio_ln_TM']\\\n",
    "                               -Elo.coef_[1]*Games['Home_Performance']\\\n",
    "                               -Elo.coef_[2]*Games['Away_Performance']\\\n",
    "                               -Elo.coef_[3]*Games['ratio_Elo']\\\n",
    "                               -Elo.coef_[4]*Games['Cup_Home']\\\n",
    "                               -Elo.coef_[5]*Games['Cup_Away'])))\n",
    "\n",
    "Games['Dprob_Elo'] = 1/(1+np.exp(-(Elo.coef_[7]\\\n",
    "                               -Elo.coef_[0]*Games['log_ratio_ln_TM']\\\n",
    "                               -Elo.coef_[1]*Games['Home_Performance']\\\n",
    "                               -Elo.coef_[2]*Games['Away_Performance']\\\n",
    "                               -Elo.coef_[3]*Games['ratio_Elo']\\\n",
    "                               -Elo.coef_[4]*Games['Cup_Home']\\\n",
    "                               -Elo.coef_[5]*Games['Cup_Away'])))\\\n",
    "                               -Games['Aprob_Elo']\n",
    "\n",
    "Games['Hprob_Elo'] = 1 - Games['Aprob_Elo'] - Games['Dprob_Elo']"
   ]
  },
  {
   "cell_type": "code",
   "execution_count": null,
   "id": "4c5b7bb7",
   "metadata": {},
   "outputs": [],
   "source": [
    "# Result prediction Main + Cup\n",
    "\n",
    "Maxprob = Games[['Aprob_Elo','Dprob_Elo','Hprob_Elo']].max(axis=1)\n",
    "\n",
    "Games['Elo_pred']=np.where(Maxprob == Games['Aprob_Elo'],'A',\\\n",
    "                               np.where(Maxprob == Games['Dprob_Elo'],'D','H'))"
   ]
  },
  {
   "cell_type": "code",
   "execution_count": null,
   "id": "62e02b0d",
   "metadata": {},
   "outputs": [],
   "source": [
    "# Confusion matrix Main + Cup\n",
    "\n",
    "pd.crosstab(Games['Win'], Games['Elo_pred'],dropna= True)"
   ]
  },
  {
   "cell_type": "code",
   "execution_count": null,
   "id": "26e17397",
   "metadata": {},
   "outputs": [],
   "source": [
    "# Precision for model Elo Main + Cup\n",
    "\n",
    "p_Elo = (63+3+78)/265\n",
    "\n",
    "p_Elo"
   ]
  },
  {
   "cell_type": "markdown",
   "id": "4a85ecf5",
   "metadata": {},
   "source": [
    "## MAIN"
   ]
  },
  {
   "cell_type": "code",
   "execution_count": null,
   "id": "035afbca",
   "metadata": {
    "scrolled": true
   },
   "outputs": [],
   "source": [
    "# ORDERED LOGIT MODEL WITH ELO MAIN\n",
    "\n",
    "Elo = OrderedLogit()\n",
    "\n",
    "Regressors = Games[['log_ratio_ln_TM','Home_Performance','Away_Performance','ratio_Elo']]\n",
    "\n",
    "Elo.fit(Regressors, Games['Winvalue'])\n",
    "\n",
    "Elo.print_summary()"
   ]
  },
  {
   "cell_type": "code",
   "execution_count": null,
   "id": "978b96ab",
   "metadata": {},
   "outputs": [],
   "source": [
    "# Predicted probabilities Main\n",
    "\n",
    "Games['Aprob_Elo'] = 1/(1+np.exp(-(Elo.coef_[4]\\\n",
    "                               -Elo.coef_[0]*Games['log_ratio_ln_TM']\\\n",
    "                               -Elo.coef_[1]*Games['Home_Performance']\\\n",
    "                               -Elo.coef_[2]*Games['Away_Performance']\\\n",
    "                               -Elo.coef_[3]*Games['ratio_Elo'])))\n",
    "\n",
    "Games['Dprob_Elo'] = 1/(1+np.exp(-(Elo.coef_[5]\\\n",
    "                               -Elo.coef_[0]*Games['log_ratio_ln_TM']\\\n",
    "                               -Elo.coef_[1]*Games['Home_Performance']\\\n",
    "                               -Elo.coef_[2]*Games['Away_Performance']\\\n",
    "                               -Elo.coef_[3]*Games['ratio_Elo'])))\\\n",
    "                               -Games['Aprob_Elo']\n",
    "\n",
    "Games['Hprob_Elo'] = 1 - Games['Aprob_Elo'] - Games['Dprob_Elo']"
   ]
  },
  {
   "cell_type": "code",
   "execution_count": null,
   "id": "4f154621",
   "metadata": {},
   "outputs": [],
   "source": [
    "# Result prediction Main\n",
    "\n",
    "Maxprob = Games[['Aprob_Elo','Dprob_Elo','Hprob_Elo']].max(axis=1)\n",
    "\n",
    "Games['Elo_pred']=np.where(Maxprob == Games['Aprob_Elo'],'A',\\\n",
    "                               np.where(Maxprob == Games['Dprob_Elo'],'D','H'))"
   ]
  },
  {
   "cell_type": "code",
   "execution_count": null,
   "id": "76322fec",
   "metadata": {
    "scrolled": true
   },
   "outputs": [],
   "source": [
    "# Confusion matrix Main\n",
    "\n",
    "pd.crosstab(Games['Win'], Games['Elo_pred'],dropna= True)"
   ]
  },
  {
   "cell_type": "code",
   "execution_count": null,
   "id": "4d0c65eb",
   "metadata": {},
   "outputs": [],
   "source": [
    "# Precision for model Elo Main\n",
    "\n",
    "p_Elo = (64+2+77)/265\n",
    "\n",
    "p_Elo"
   ]
  },
  {
   "cell_type": "markdown",
   "id": "e6b86d47",
   "metadata": {},
   "source": [
    "## MAIN + DIFF (Best)"
   ]
  },
  {
   "cell_type": "code",
   "execution_count": null,
   "id": "ac10f0b6",
   "metadata": {},
   "outputs": [],
   "source": [
    "# ORDERED LOGIT MODEL WITH ELO MAIN + DIFF\n",
    "\n",
    "Elo = OrderedLogit()\n",
    "\n",
    "Regressors = Games[['log_ratio_ln_TM','Home_Performance','Away_Performance','ratio_Elo','Home_Diff_Goals','Away_Diff_Goals']]\n",
    "\n",
    "Elo.fit(Regressors, Games['Winvalue'])\n",
    "\n",
    "Elo.print_summary()"
   ]
  },
  {
   "cell_type": "code",
   "execution_count": null,
   "id": "b28291d4",
   "metadata": {},
   "outputs": [],
   "source": [
    "# Predicted probabilities Main + Diff\n",
    "\n",
    "Games['Aprob_Elo'] = 1/(1+np.exp(-(Elo.coef_[6]\\\n",
    "                               -Elo.coef_[0]*Games['log_ratio_ln_TM']\\\n",
    "                               -Elo.coef_[1]*Games['Home_Performance']\\\n",
    "                               -Elo.coef_[2]*Games['Away_Performance']\\\n",
    "                               -Elo.coef_[3]*Games['ratio_Elo']\\\n",
    "                               -Elo.coef_[4]*Games['Home_Diff_Goals']\\\n",
    "                               -Elo.coef_[5]*Games['Away_Diff_Goals'])))\n",
    "\n",
    "Games['Dprob_Elo'] = 1/(1+np.exp(-(Elo.coef_[7]\\\n",
    "                               -Elo.coef_[0]*Games['log_ratio_ln_TM']\\\n",
    "                               -Elo.coef_[1]*Games['Home_Performance']\\\n",
    "                               -Elo.coef_[2]*Games['Away_Performance']\\\n",
    "                               -Elo.coef_[3]*Games['ratio_Elo']\\\n",
    "                               -Elo.coef_[4]*Games['Home_Diff_Goals']\\\n",
    "                               -Elo.coef_[5]*Games['Away_Diff_Goals'])))\\\n",
    "                               -Games['Aprob_Elo']\n",
    "\n",
    "Games['Hprob_Elo'] = 1 - Games['Aprob_Elo'] - Games['Dprob_Elo']"
   ]
  },
  {
   "cell_type": "code",
   "execution_count": null,
   "id": "6028aecb",
   "metadata": {},
   "outputs": [],
   "source": [
    "# Result prediction Main + Diff\n",
    "\n",
    "Maxprob = Games[['Aprob_Elo','Dprob_Elo','Hprob_Elo']].max(axis=1)\n",
    "\n",
    "Games['Elo_pred']=np.where(Maxprob == Games['Aprob_Elo'],'A',\\\n",
    "                               np.where(Maxprob == Games['Dprob_Elo'],'D','H'))"
   ]
  },
  {
   "cell_type": "code",
   "execution_count": null,
   "id": "04b35b83",
   "metadata": {},
   "outputs": [],
   "source": [
    "# Confusion matrix Main + Diff\n",
    "\n",
    "pd.crosstab(Games['Win'], Games['Elo_pred'],dropna= True)"
   ]
  },
  {
   "cell_type": "code",
   "execution_count": null,
   "id": "1c84ebcc",
   "metadata": {
    "scrolled": true
   },
   "outputs": [],
   "source": [
    "# Precision for model Elo \n",
    "\n",
    "p_Elo = (68+6+77)/265\n",
    "\n",
    "p_Elo"
   ]
  },
  {
   "cell_type": "markdown",
   "id": "d925ad76",
   "metadata": {},
   "source": [
    "# Standings (ATTENTION! RUN A MODEL THAT WANT TO BE VISUALIZED FOR EACH SECTION)"
   ]
  },
  {
   "cell_type": "code",
   "execution_count": null,
   "id": "55ce6224",
   "metadata": {},
   "outputs": [],
   "source": [
    "# Variable Pts for home and away team\n",
    "\n",
    "Odds['HPts'] = np.where(Odds['FTR']=='H',3,np.where(Odds['FTR']=='D',1,0))\n",
    "Odds['APts'] = np.where(Odds['FTR']=='A',3,np.where(Odds['FTR']=='D',1,0))"
   ]
  },
  {
   "cell_type": "code",
   "execution_count": null,
   "id": "b0b67cef",
   "metadata": {},
   "outputs": [],
   "source": [
    "# Variable Expected Pts for home and away team\n",
    "\n",
    "Odds['xHPts'] = 3*Odds['Hprob_Odds'] + Odds['Dprob_Odds']\n",
    "Odds['xAPts'] = 3*Odds['Aprob_Odds'] + Odds['Dprob_Odds']"
   ]
  },
  {
   "cell_type": "code",
   "execution_count": null,
   "id": "2609120f",
   "metadata": {},
   "outputs": [],
   "source": [
    "# Standings for home games\n",
    "\n",
    "Home_Teams = Odds.groupby('Home_Team')[['HPts','xHPts']].sum().reset_index()\n",
    "Home_Games = Odds.groupby('Home_Team')['Date'].size().reset_index()\n",
    "Home_Teams = pd.merge(Home_Teams,Home_Games, on = 'Home_Team')\n",
    "Home_Teams.rename(columns={'HPts':'Pts','xHPts':'xPts','Home_Team':'Team', 'Date':'Games'},inplace=True)"
   ]
  },
  {
   "cell_type": "code",
   "execution_count": null,
   "id": "c9472fde",
   "metadata": {},
   "outputs": [],
   "source": [
    "# Standings for away games\n",
    "\n",
    "Away_Teams = Odds.groupby('Away_Team')[['APts','xAPts']].sum().reset_index()\n",
    "Away_Games = Odds.groupby('Away_Team')['Date'].size().reset_index()\n",
    "Away_Teams = pd.merge(Away_Teams,Away_Games, on = 'Away_Team')\n",
    "Away_Teams.rename(columns={'APts':'Pts','xAPts':'xPts','Away_Team':'Team','Date':'Games'},inplace=True)"
   ]
  },
  {
   "cell_type": "code",
   "execution_count": null,
   "id": "15b72309",
   "metadata": {},
   "outputs": [],
   "source": [
    "# Standings\n",
    "\n",
    "St_Odds = pd.merge(Home_Teams,Away_Teams,on='Team')\n",
    "St_Odds['Pts'] = St_Odds['Pts_x'] + St_Odds['Pts_y']\n",
    "St_Odds['xPts_Odds'] = St_Odds['xPts_x'] + St_Odds['xPts_y']\n",
    "St_Odds['Games'] = St_Odds['Games_x'] + St_Odds['Games_y']\n",
    "St_Odds.drop(['Pts_x','Pts_y','xPts_x','xPts_y','Games_x','Games_y'],axis=1,inplace=True)\n",
    "St_Odds['Rank'] = pd.to_numeric(St_Odds['Pts'].rank(ascending=False),downcast='integer')\n",
    "St_Odds['xRank_Odds'] = pd.to_numeric(St_Odds['xPts_Odds'].rank(ascending=False),downcast='integer')\n",
    "St_Odds.sort_values(by='Pts',ascending=False,inplace=True)\n",
    "G = St_Odds['Games']\n",
    "St_Odds.drop('Games',axis=1,inplace=True)\n",
    "St_Odds.insert(1,'Games',G)"
   ]
  },
  {
   "cell_type": "code",
   "execution_count": null,
   "id": "85934841",
   "metadata": {},
   "outputs": [],
   "source": [
    "# Variable xPts for home and away team model TMValue_Costant\n",
    "\n",
    "St_TMValue_Costant = Games[['Home_Team','Away_Team','Aprob_TMValue_Costant','Dprob_TMValue_Costant','Hprob_TMValue_Costant']].copy()\n",
    "\n",
    "St_TMValue_Costant['xHPts'] = 3*St_TMValue_Costant['Hprob_TMValue_Costant'] + St_TMValue_Costant['Dprob_TMValue_Costant']\n",
    "St_TMValue_Costant['xAPts'] = 3*St_TMValue_Costant['Aprob_TMValue_Costant'] + St_TMValue_Costant['Dprob_TMValue_Costant']\n",
    "St_TMValue_Costant.drop(['Aprob_TMValue_Costant','Dprob_TMValue_Costant','Hprob_TMValue_Costant'],axis=1,inplace=True)"
   ]
  },
  {
   "cell_type": "code",
   "execution_count": null,
   "id": "71d62865",
   "metadata": {},
   "outputs": [],
   "source": [
    "# Standings for home games model TMValue_Costant\n",
    "\n",
    "Home_Teams = St_TMValue_Costant.groupby('Home_Team')['xHPts'].sum().reset_index()\n",
    "Home_Teams.rename(columns={'xHPts':'xPts','Home_Team':'Team'},inplace=True)"
   ]
  },
  {
   "cell_type": "code",
   "execution_count": null,
   "id": "de186071",
   "metadata": {},
   "outputs": [],
   "source": [
    "# Standings for away games model TMValue_Costant\n",
    "\n",
    "Away_Teams = St_TMValue_Costant.groupby('Away_Team')['xAPts'].sum().reset_index()\n",
    "Away_Teams.rename(columns={'xAPts':'xPts','Away_Team':'Team'},inplace=True)"
   ]
  },
  {
   "cell_type": "code",
   "execution_count": null,
   "id": "a63e8a9c",
   "metadata": {},
   "outputs": [],
   "source": [
    "# Standings\n",
    "\n",
    "St_TMValue_Costant = pd.merge(Home_Teams,Away_Teams,on='Team')\n",
    "St_TMValue_Costant['xPts_TMValue_Costant'] = St_TMValue_Costant['xPts_x'] + St_TMValue_Costant['xPts_y']\n",
    "St_TMValue_Costant.drop(['xPts_x','xPts_y'],axis=1,inplace=True)\n",
    "St_TMValue_Costant['xRank_TMValue_Costant'] = pd.to_numeric(St_TMValue_Costant['xPts_TMValue_Costant'].rank(ascending=False),downcast='integer')\n",
    "St = pd.merge(St_Odds,St_TMValue_Costant,on='Team')\n",
    "St.sort_values(by='Pts',ascending=False,inplace=True)"
   ]
  },
  {
   "cell_type": "code",
   "execution_count": null,
   "id": "5b84aa40",
   "metadata": {},
   "outputs": [],
   "source": [
    "# Variable xPts for home and away team model TMValue_Lineups\n",
    "\n",
    "St_TMValue_Lineups = Games[['Home_Team','Away_Team','Aprob_TMValue_Lineups','Dprob_TMValue_Lineups','Hprob_TMValue_Lineups']].copy()\n",
    "\n",
    "St_TMValue_Lineups['xHPts'] = 3*St_TMValue_Lineups['Hprob_TMValue_Lineups'] + St_TMValue_Lineups['Dprob_TMValue_Lineups']\n",
    "St_TMValue_Lineups['xAPts'] = 3*St_TMValue_Lineups['Aprob_TMValue_Lineups'] + St_TMValue_Lineups['Dprob_TMValue_Lineups']\n",
    "St_TMValue_Lineups.drop(['Aprob_TMValue_Lineups','Dprob_TMValue_Lineups','Hprob_TMValue_Lineups'],axis=1,inplace=True)"
   ]
  },
  {
   "cell_type": "code",
   "execution_count": null,
   "id": "8338aecf",
   "metadata": {},
   "outputs": [],
   "source": [
    "# Standings for home games model TMValue_Lineups\n",
    "\n",
    "Home_Teams = St_TMValue_Lineups.groupby('Home_Team')['xHPts'].sum().reset_index()\n",
    "Home_Teams.rename(columns={'xHPts':'xPts','Home_Team':'Team'},inplace=True)"
   ]
  },
  {
   "cell_type": "code",
   "execution_count": null,
   "id": "7535d2d8",
   "metadata": {},
   "outputs": [],
   "source": [
    "# Standings for away games model TMValue_Lineups\n",
    "\n",
    "Away_Teams = St_TMValue_Lineups.groupby('Away_Team')['xAPts'].sum().reset_index()\n",
    "Away_Teams.rename(columns={'xAPts':'xPts','Away_Team':'Team'},inplace=True)"
   ]
  },
  {
   "cell_type": "code",
   "execution_count": null,
   "id": "f133499b",
   "metadata": {
    "scrolled": true
   },
   "outputs": [],
   "source": [
    "# Standings\n",
    "\n",
    "St_TMValue_Lineups = pd.merge(Home_Teams,Away_Teams,on='Team')\n",
    "St_TMValue_Lineups['xPts_TMValue_Lineups'] = St_TMValue_Lineups['xPts_x'] + St_TMValue_Lineups['xPts_y']\n",
    "St_TMValue_Lineups.drop(['xPts_x','xPts_y'],axis=1,inplace=True)\n",
    "St_TMValue_Lineups['xRank_TMValue_Lineups'] = pd.to_numeric(St_TMValue_Lineups['xPts_TMValue_Lineups'].rank(ascending=False),downcast='integer')\n",
    "St = pd.merge(St,St_TMValue_Lineups,on='Team')\n",
    "St.sort_values(by='Pts',ascending=False,inplace=True)"
   ]
  },
  {
   "cell_type": "code",
   "execution_count": null,
   "id": "c605e25d",
   "metadata": {},
   "outputs": [],
   "source": [
    "# Variable xPts for home and away team model Elo\n",
    "\n",
    "St_Elo = Games[['Home_Team','Away_Team','Aprob_Elo','Dprob_Elo','Hprob_Elo']].copy()\n",
    "\n",
    "St_Elo['xHPts'] = 3*St_Elo['Hprob_Elo'] + St_Elo['Dprob_Elo']\n",
    "St_Elo['xAPts'] = 3*St_Elo['Aprob_Elo'] + St_Elo['Dprob_Elo']\n",
    "St_Elo.drop(['Aprob_Elo','Dprob_Elo','Hprob_Elo'],axis=1,inplace=True)"
   ]
  },
  {
   "cell_type": "code",
   "execution_count": null,
   "id": "f538d337",
   "metadata": {},
   "outputs": [],
   "source": [
    "# Standings for home games model TMValue_Lineups\n",
    "\n",
    "Home_Teams = St_Elo.groupby('Home_Team')['xHPts'].sum().reset_index()\n",
    "Home_Teams.rename(columns={'xHPts':'xPts','Home_Team':'Team'},inplace=True)"
   ]
  },
  {
   "cell_type": "code",
   "execution_count": null,
   "id": "e9cf34ec",
   "metadata": {},
   "outputs": [],
   "source": [
    "# Standings for away games model TMValue_Lineups\n",
    "\n",
    "Away_Teams = St_Elo.groupby('Away_Team')['xAPts'].sum().reset_index()\n",
    "Away_Teams.rename(columns={'xAPts':'xPts','Away_Team':'Team'},inplace=True)"
   ]
  },
  {
   "cell_type": "code",
   "execution_count": null,
   "id": "5fcd3565",
   "metadata": {
    "scrolled": false
   },
   "outputs": [],
   "source": [
    "# Standings\n",
    "\n",
    "St_Elo = pd.merge(Home_Teams,Away_Teams,on='Team')\n",
    "St_Elo['xPts_Elo'] = St_Elo['xPts_x'] + St_Elo['xPts_y']\n",
    "St_Elo.drop(['xPts_x','xPts_y'],axis=1,inplace=True)\n",
    "St_Elo['xRank_Elo'] = pd.to_numeric(St_Elo['xPts_Elo'].rank(ascending=False),downcast='integer')\n",
    "St = pd.merge(St,St_Elo,on='Team')\n",
    "St.sort_values(by='Pts',ascending=False,inplace=True)\n",
    "St"
   ]
  },
  {
   "cell_type": "code",
   "execution_count": null,
   "id": "99707995",
   "metadata": {},
   "outputs": [],
   "source": [
    "# Variables Score for each model\n",
    "\n",
    "St['Score_Odds'] = [0]*len(St)\n",
    "\n",
    "St['Score_TMValue_Costant'] = [0]*len(St)\n",
    "\n",
    "St['Score_TMValue_Lineups'] = [0]*len(St)\n",
    "\n",
    "St['Score_Elo'] = [0]*len(St)"
   ]
  },
  {
   "cell_type": "code",
   "execution_count": null,
   "id": "6e1da3be",
   "metadata": {
    "scrolled": true
   },
   "outputs": [],
   "source": [
    "# Calculation Score\n",
    "\n",
    "i = 0\n",
    "\n",
    "for i in range(0,len(St)):\n",
    "    \n",
    "    if St.loc[i,'Rank'] == 1.5:\n",
    "    \n",
    "        if abs(St.loc[i,'Rank']-St.loc[i,'xRank_Odds']) <= 1:\n",
    "            St.loc[i,'Score_Odds'] = 20\n",
    "        else:\n",
    "            St.loc[i,'Score_Odds'] = 20 - abs(St.loc[i,'Rank']-St.loc[i,'xRank_Odds'])\n",
    "            \n",
    "        if abs(St.loc[i,'Rank']-St.loc[i,'xRank_TMValue_Costant']) <= 1:\n",
    "            St.loc[i,'Score_TMValue_Costant'] = 20\n",
    "        else:\n",
    "            St.loc[i,'Score_TMValue_Costant'] = 20 - abs(St.loc[i,'Rank']-St.loc[i,'xRank_TMValue_Costant'])\n",
    "            \n",
    "        if abs(St.loc[i,'Rank']-St.loc[i,'xRank_TMValue_Lineups']) <= 1:\n",
    "            St.loc[i,'Score_TMValue_Lineups'] = 20\n",
    "        else:\n",
    "            St.loc[i,'Score_TMValue_Lineups'] = 20 - abs(St.loc[i,'Rank']-St.loc[i,'xRank_TMValue_Lineups'])\n",
    "            \n",
    "        if abs(St.loc[i,'Rank']-St.loc[i,'xRank_Elo']) <= 1:\n",
    "            St.loc[i,'Score_Elo'] = 20\n",
    "        else:\n",
    "            St.loc[i,'Score_Elo'] = 20 - abs(St.loc[i,'Rank']-St.loc[i,'xRank_Elo'])\n",
    "            \n",
    "    if St.loc[i,'Rank'] == 15:\n",
    "    \n",
    "        if (St.loc[i,'xRank_Odds'] >= 14) & (St.loc[i,'xRank_Odds'] <= 16):\n",
    "            St.loc[i,'Score_Odds'] = 20\n",
    "        else:\n",
    "            St.loc[i,'Score_Odds'] = 20 - abs(St.loc[i,'Rank']-St.loc[i,'xRank_Odds'])\n",
    "            \n",
    "        if (St.loc[i,'xRank_TMValue_Costant'] >= 14) & (St.loc[i,'xRank_TMValue_Costant'] <= 16):\n",
    "            St.loc[i,'Score_TMValue_Costant'] = 20\n",
    "        else:\n",
    "            St.loc[i,'Score_TMValue_Costant'] = 20 - abs(St.loc[i,'Rank']-St.loc[i,'xRank_TMValue_Costant'])\n",
    "            \n",
    "        if (St.loc[i,'xRank_TMValue_Lineups'] >= 14) & (St.loc[i,'xRank_TMValue_Lineups'] <= 16):\n",
    "            St.loc[i,'Score_TMValue_Lineups'] = 20\n",
    "        else:\n",
    "            St.loc[i,'Score_TMValue_Lineups'] = 20 - abs(St.loc[i,'Rank']-St.loc[i,'xRank_TMValue_Lineups'])\n",
    "            \n",
    "        if (St.loc[i,'xRank_Elo'] >= 14) & (St.loc[i,'xRank_Elo'] <= 16):\n",
    "            St.loc[i,'Score_Elo'] = 20\n",
    "        else:\n",
    "            St.loc[i,'Score_Elo'] = 20 - abs(St.loc[i,'Rank']-St.loc[i,'xRank_Elo'])\n",
    "                                       \n",
    "    else:\n",
    "        \n",
    "        St.loc[i,'Score_Odds'] = 20 - abs(St.loc[i,'Rank']-St.loc[i,'xRank_Odds'])\n",
    "        St.loc[i,'Score_TMValue_Costant'] = 20 - abs(St.loc[i,'Rank']-St.loc[i,'xRank_TMValue_Costant'])\n",
    "        St.loc[i,'Score_TMValue_Lineups'] = 20 - abs(St.loc[i,'Rank']-St.loc[i,'xRank_TMValue_Lineups'])\n",
    "        St.loc[i,'Score_Elo'] = 20 - abs(St.loc[i,'Rank']-St.loc[i,'xRank_Elo'])"
   ]
  },
  {
   "cell_type": "code",
   "execution_count": null,
   "id": "57194a27",
   "metadata": {},
   "outputs": [],
   "source": [
    "# Score Model Odds\n",
    "\n",
    "St['Score_Odds'].sum()"
   ]
  },
  {
   "cell_type": "code",
   "execution_count": null,
   "id": "a2353528",
   "metadata": {},
   "outputs": [],
   "source": [
    "# Score Model TMValue_Costant\n",
    "\n",
    "St['Score_TMValue_Costant'].sum()"
   ]
  },
  {
   "cell_type": "code",
   "execution_count": null,
   "id": "88e3f30c",
   "metadata": {},
   "outputs": [],
   "source": [
    "# Score Model TMValue_Lineups\n",
    "\n",
    "St['Score_TMValue_Lineups'].sum()"
   ]
  },
  {
   "cell_type": "code",
   "execution_count": null,
   "id": "a89a8cf8",
   "metadata": {},
   "outputs": [],
   "source": [
    "# Score Model Elo\n",
    "\n",
    "St['Score_Elo'].sum()"
   ]
  },
  {
   "cell_type": "markdown",
   "id": "4b52706a",
   "metadata": {},
   "source": [
    "# Generilzed Linear Models for npxG_Expected"
   ]
  },
  {
   "cell_type": "code",
   "execution_count": null,
   "id": "45013e0d",
   "metadata": {
    "scrolled": true
   },
   "outputs": [],
   "source": [
    "Milan = Games[(Games['Home_Team']=='Milan')|(Games['Away_Team']=='Milan')].copy()\n",
    "\n",
    "Milan = Milan.reset_index(drop = True)\n",
    "\n",
    "Milan.head()"
   ]
  },
  {
   "cell_type": "code",
   "execution_count": null,
   "id": "cde322bb",
   "metadata": {
    "scrolled": true
   },
   "outputs": [],
   "source": [
    "# Subset games to exctract milan and opponent usefull statistics\n",
    "\n",
    "SerieA_Milan = SerieA[(SerieA.loc[:,'Home_Team']=='Milan')|(SerieA.loc[:,'Away_Team']=='Milan')].copy()\n",
    "SerieA_Milan.sort_values(by='Matchweek',inplace=True)\n",
    "SerieA_Milan.reset_index(drop=True, inplace=True)"
   ]
  },
  {
   "cell_type": "code",
   "execution_count": null,
   "id": "4ecd8383",
   "metadata": {},
   "outputs": [],
   "source": [
    "SerieA_Milan.to_csv('/Users/lorenzoleoni/Desktop/Materiale Personale/Database/SerieA_Milan.csv',index=False)"
   ]
  },
  {
   "cell_type": "code",
   "execution_count": null,
   "id": "f4b71c72",
   "metadata": {
    "scrolled": false
   },
   "outputs": [],
   "source": [
    "# Exctraction usefull statistics\n",
    "\n",
    "Milan.loc[:,'Home_Away'] = np.where(Milan.loc[:,'Home_Team']=='Milan','H','A')\n",
    "\n",
    "i = 0\n",
    "\n",
    "k = 0\n",
    "\n",
    "Milan['npxG_Expected'] = [0]*len(Milan)\n",
    "\n",
    "Milan['Cmp_percent_Passes'] = [0]*len(Milan)\n",
    "\n",
    "Milan['Att_Dribbles'] = [0]*len(Milan)\n",
    "\n",
    "Milan['Str_Corner_Kicks'] = [0]*len(Milan)\n",
    "\n",
    "Milan['Def_Touches'] = [0]*len(Milan)\n",
    "\n",
    "Milan['Att_Pressures'] = [0]*len(Milan)\n",
    "\n",
    "Milan['Opponent_percent_Pressures'] = [0]*len(Milan)\n",
    "\n",
    "Milan['Opponent_Att_Long'] = [0]*len(Milan)\n",
    "\n",
    "Milan['Fls'] = [0]*len(Milan)\n",
    "\n",
    "while k < max(SerieA_Milan['Matchweek']):\n",
    "        \n",
    "    if SerieA_Milan.loc[i,'Team']!='Milan':\n",
    "        \n",
    "        Milan.loc[k,'Opponent_percent_Pressures'] = SerieA_Milan[(SerieA_Milan['Matchweek']==k+1)&(SerieA_Milan['Team']!='Milan')]['percent_Pressures'].iloc[0]\n",
    "        \n",
    "        Milan.loc[k,'Cmp_percent_Passes'] = SerieA_Milan[(SerieA_Milan['Matchweek']==k+1)&(SerieA_Milan['Team']=='Milan')]['Cmp_percent_Passes'].iloc[0]\n",
    "       \n",
    "        Milan.loc[k,'npxG_Expected'] = SerieA_Milan[(SerieA_Milan['Matchweek']==k+1)&(SerieA_Milan['Team']=='Milan')]['npxG_Expected'].iloc[0]\n",
    "        \n",
    "        Milan.loc[k,'Att_Pressures'] = SerieA_Milan[(SerieA_Milan['Matchweek']==k+1)&(SerieA_Milan['Team']=='Milan')]['Att 3rd_Pressures'].iloc[0]\n",
    "        \n",
    "        Milan.loc[k,'Att_Dribbles'] = SerieA_Milan[(SerieA_Milan['Matchweek']==k+1)&(SerieA_Milan['Team']=='Milan')]['Att_Dribbles'].iloc[0]\n",
    "        \n",
    "        Milan.loc[k,'Str_Corner_Kicks'] = SerieA_Milan[(SerieA_Milan['Matchweek']==k+1)&(SerieA_Milan['Team']=='Milan')]['Str_Corner_Kicks'].iloc[0]\n",
    "        \n",
    "        Milan.loc[k,'Def_Touches'] = SerieA_Milan[(SerieA_Milan['Matchweek']==k+1)&(SerieA_Milan['Team']=='Milan')]['Def 3rd_Touches'].iloc[0]\n",
    "        \n",
    "        Milan.loc[k,'Fls'] = SerieA_Milan[(SerieA_Milan['Matchweek']==k+1)&(SerieA_Milan['Team']=='Milan')]['Fls_9'].iloc[0]\n",
    "        \n",
    "        Milan.loc[k,'Opponent_Att_Long'] = SerieA_Milan[(SerieA_Milan['Matchweek']==k+1)&(SerieA_Milan['Team']!='Milan')]['Att_Long'].iloc[0]\n",
    "        \n",
    "        k += 1\n",
    "        \n",
    "    i += 1\n",
    "\n",
    "Milan.head()"
   ]
  },
  {
   "cell_type": "code",
   "execution_count": null,
   "id": "2991f864",
   "metadata": {
    "scrolled": true
   },
   "outputs": [],
   "source": [
    "# Save variables for Milan and Opponent in each match\n",
    "\n",
    "i = 0\n",
    "\n",
    "Milan['Milan_Performance'] = [0]*len(Milan)\n",
    "\n",
    "Milan['Opponent_Performance'] = [0]*len(Milan)\n",
    "\n",
    "Milan['Milan_Elo'] = [0]*len(Milan)\n",
    "\n",
    "Milan['Opponent_Elo'] = [0]*len(Milan)\n",
    "\n",
    "Milan['Milan_Cup'] = [0]*len(Milan)\n",
    "\n",
    "Milan['Opponent_Cup'] = [0]*len(Milan)\n",
    "\n",
    "Milan['Milan_Diff_Goals'] = [0]*len(Milan)\n",
    "\n",
    "Milan['Opponent_Diff_Goals'] = [0]*len(Milan)\n",
    "\n",
    "Milan['Opponent_ln_TM'] = [0]*len(Milan)\n",
    "\n",
    "Milan['Milan_ln_TM'] = [0]*len(Milan)\n",
    "\n",
    "for i in range(0,len(Milan)):\n",
    "\n",
    "    Milan.loc[i,'Milan_Performance'] = np.where(Milan.loc[i,'Home_Team']=='Milan',\\\n",
    "                                                  Milan.loc[i,'Home_Performance'], \\\n",
    "                                                  Milan.loc[i,'Away_Performance'])\n",
    "\n",
    "    Milan.loc[i,'Opponent_Performance'] = np.where(Milan.loc[i,'Home_Team']!='Milan',\\\n",
    "                                                  Milan.loc[i,'Home_Performance'], \\\n",
    "                                                  Milan.loc[i,'Away_Performance'])\n",
    "    \n",
    "    Milan.loc[i,'Milan_Elo'] = np.where(Milan.loc[i,'Home_Team']=='Milan',\\\n",
    "                                                  Milan.loc[i,'Elo_Home'], \\\n",
    "                                                  Milan.loc[i,'Elo_Away'])\n",
    "\n",
    "    Milan.loc[i,'Opponent_Elo'] = np.where(Milan.loc[i,'Home_Team']!='Milan',\\\n",
    "                                                  Milan.loc[i,'Elo_Home'], \\\n",
    "                                                  Milan.loc[i,'Elo_Away'])\n",
    "    \n",
    "    Milan.loc[i,'Milan_Cup'] = np.where(Milan.loc[i,'Home_Team']=='Milan',\\\n",
    "                                                  Milan.loc[i,'Cup_Home'], \\\n",
    "                                                  Milan.loc[i,'Cup_Away'])\n",
    "    \n",
    "    Milan.loc[i,'Opponent_Cup'] = np.where(Milan.loc[i,'Home_Team']!='Milan',\\\n",
    "                                                  Milan.loc[i,'Cup_Home'], \\\n",
    "                                                  Milan.loc[i,'Cup_Away'])\n",
    "    \n",
    "    Milan.loc[i,'Milan_ln_TM'] = np.where(Milan.loc[i,'Home_Team']=='Milan',\\\n",
    "                                                  Milan.loc[i,'ln_TM_Home'], \\\n",
    "                                                  Milan.loc[i,'ln_TM_Away'])\n",
    "    \n",
    "    Milan.loc[i,'Opponent_ln_TM'] = np.where(Milan.loc[i,'Home_Team']!='Milan',\\\n",
    "                                                  Milan.loc[i,'ln_TM_Home'], \\\n",
    "                                                  Milan.loc[i,'ln_TM_Away'])\n",
    "    \n",
    "    Milan.loc[i,'Milan_Diff_Goals'] = np.where(Milan.loc[i,'Home_Team']=='Milan',\\\n",
    "                                                  Milan.loc[i,'Home_Diff_Goals'], \\\n",
    "                                                  Milan.loc[i,'Away_Diff_Goals'])\n",
    "    \n",
    "    Milan.loc[i,'Opponent_Diff_Goals'] = np.where(Milan.loc[i,'Home_Team']!='Milan',\\\n",
    "                                                  Milan.loc[i,'Home_Diff_Goals'], \\\n",
    "                                                  Milan.loc[i,'Away_Diff_Goals'])\n",
    "            \n",
    "Milan['log_ratio_ln_TM'] = np.log(Milan['Milan_ln_TM']) - np.log(Milan['Opponent_ln_TM'])\n",
    "Milan['ratio_Elo'] = Milan['Milan_Elo']/Milan['Opponent_Elo']\n",
    "Milan.drop(['Cup_Home','Cup_Away','Home_Performance','Away_Performance','ln_TM_Home',\\\n",
    "            'ln_TM_Away','Elo_Home','Elo_Away','Home_Diff_Goals','Away_Diff_Goals',\\\n",
    "            'Aprob_TMValue_Costant','Dprob_TMValue_Costant','Hprob_TMValue_Costant',\\\n",
    "           'TMValue_Costant_pred','Aprob_TMValue_Lineups','Dprob_TMValue_Lineups',\\\n",
    "           'Hprob_TMValue_Lineups','TMValue_Lineups_pred','Aprob_Elo','Dprob_Elo',\\\n",
    "            'Hprob_Elo','Elo_pred'], axis=1,inplace=True)\n",
    "Milan.info()"
   ]
  },
  {
   "cell_type": "code",
   "execution_count": null,
   "id": "52c6e99f",
   "metadata": {},
   "outputs": [],
   "source": [
    "# Distribution npxG_Expected\n",
    "\n",
    "plt.figure(figsize=(14,7)) # Make it 14x7 inch\n",
    "\n",
    "plt.style.use('seaborn-whitegrid') # nice and clean grid\n",
    "\n",
    "plt.hist(Milan['npxG_Expected'], bins=20, facecolor = '#2ab0ff', edgecolor='#169acf', linewidth=0.5)\n",
    "\n",
    "plt.title('npxG_Expected', fontsize=35) \n",
    "\n",
    "plt.xlabel('Distribution', fontsize=28) \n",
    "\n",
    "plt.ylabel('Frequency', fontsize=28)\n",
    "\n",
    "plt.xticks(fontsize=20)\n",
    "\n",
    "plt.yticks(fontsize=20)\n",
    "\n",
    "plt.show()"
   ]
  },
  {
   "cell_type": "markdown",
   "id": "d55a7ce3",
   "metadata": {},
   "source": [
    "## FORWARD SELECTION"
   ]
  },
  {
   "cell_type": "code",
   "execution_count": null,
   "id": "47ce031f",
   "metadata": {
    "scrolled": true
   },
   "outputs": [],
   "source": [
    "# Train data first half of the season\n",
    "\n",
    "train_data = Milan.loc[(Milan['Matchweek']<=19).values].copy()\n",
    "train_data.drop(['Matchweek','Match_Date','Home_Team','Away_Team','Win','Winvalue','Home_Away',\\\n",
    "                 'Milan_Elo','Opponent_Elo','Opponent_ln_TM','Milan_ln_TM'], axis=1, inplace=True)"
   ]
  },
  {
   "cell_type": "code",
   "execution_count": null,
   "id": "84b0cefd",
   "metadata": {},
   "outputs": [],
   "source": [
    "# Create gamma regression object\n",
    "\n",
    "mod = GammaRegressor()"
   ]
  },
  {
   "cell_type": "code",
   "execution_count": null,
   "id": "108b2710",
   "metadata": {},
   "outputs": [],
   "source": [
    "# Forward Selection\n",
    "\n",
    "forward_selection = sfs(mod, k_features=5, forward=True, floating=True, verbose=2, scoring='neg_mean_gamma_deviance')\n",
    "forward_selection = forward_selection.fit(train_data.loc[:, train_data.columns != 'npxG_Expected'],train_data['npxG_Expected'])"
   ]
  },
  {
   "cell_type": "code",
   "execution_count": null,
   "id": "764931d4",
   "metadata": {},
   "outputs": [],
   "source": [
    "# Features selected\n",
    "\n",
    "feat_names = list(forward_selection.k_feature_names_)\n",
    "print(feat_names)"
   ]
  },
  {
   "cell_type": "code",
   "execution_count": null,
   "id": "28bae8aa",
   "metadata": {},
   "outputs": [],
   "source": [
    "# Gamma regression with the features selected\n",
    "\n",
    "npxG_for = smf.glm(formula='npxG_Expected ~ ratio_Elo + Def_Touches + Att_Pressures + Opponent_percent_Pressures + Milan_Performance', data = train_data, \\\n",
    "             family=sm.families.Gamma(link=sm.families.links.log())).fit()\n",
    "print(npxG_for.summary())"
   ]
  },
  {
   "cell_type": "code",
   "execution_count": null,
   "id": "c9f7aacf",
   "metadata": {},
   "outputs": [],
   "source": [
    "# AIC model forward selectiom\n",
    "\n",
    "npxG_for.aic"
   ]
  },
  {
   "cell_type": "code",
   "execution_count": null,
   "id": "0f27c5df",
   "metadata": {},
   "outputs": [],
   "source": [
    "# Distribution residuals from model npxG_Expected forward selection\n",
    "\n",
    "plt.figure(figsize=(14,7)) # Make it 14x7 inch\n",
    "\n",
    "plt.style.use('seaborn-whitegrid') # nice and clean grid\n",
    "\n",
    "plt.hist(npxG_for.resid_response, bins=10, facecolor = '#2ab0ff', edgecolor='#169acf', linewidth=0.5)\n",
    "\n",
    "plt.title('Residuals Forward Selection', fontsize=35) \n",
    "\n",
    "plt.xlabel('Distribution', fontsize=28) \n",
    "\n",
    "plt.ylabel('Frequency', fontsize=28)\n",
    "\n",
    "plt.xticks(fontsize=20)\n",
    "\n",
    "plt.yticks(fontsize=20)\n",
    "\n",
    "plt.show()"
   ]
  },
  {
   "cell_type": "code",
   "execution_count": null,
   "id": "515ee959",
   "metadata": {},
   "outputs": [],
   "source": [
    "# Shapiro-Wilk test, H0 : Normal Residuals\n",
    "\n",
    "shapiro(npxG_for.resid_response)"
   ]
  },
  {
   "cell_type": "code",
   "execution_count": null,
   "id": "c4869078",
   "metadata": {},
   "outputs": [],
   "source": [
    "# Test data\n",
    "\n",
    "test_data = Milan.loc[(Milan['Matchweek']>19).values].copy()"
   ]
  },
  {
   "cell_type": "code",
   "execution_count": null,
   "id": "a8701610",
   "metadata": {},
   "outputs": [],
   "source": [
    "# Prediction of npxG_Expected from test dataset\n",
    "\n",
    "test_data['npxG_pred'] = npxG_for.predict(test_data)\n",
    "test_data[['npxG_Expected','npxG_pred']]"
   ]
  },
  {
   "cell_type": "code",
   "execution_count": null,
   "id": "b184fece",
   "metadata": {},
   "outputs": [],
   "source": [
    "# Deviance model npxG\n",
    "\n",
    "D_npxG_for = mean_gamma_deviance(test_data['npxG_Expected'],test_data['npxG_pred'])\n",
    "D_npxG_for"
   ]
  },
  {
   "cell_type": "markdown",
   "id": "cf7371f0",
   "metadata": {},
   "source": [
    "## GAMMA REGRESSION (Best)"
   ]
  },
  {
   "cell_type": "code",
   "execution_count": null,
   "id": "8d37d0ac",
   "metadata": {
    "scrolled": true
   },
   "outputs": [],
   "source": [
    "# Features selected from the forward selection and correlation with r, if it's used the canonical link function (inverse power) we obtain a better CS and deviance but a \n",
    "# not a theoretically correct model\n",
    "\n",
    "npxG = smf.glm(formula='npxG_Expected ~ Opponent_percent_Pressures*Def_Touches + Att_Pressures + Milan_Performance + Milan_Cup', data = train_data, \\\n",
    "             family=sm.families.Gamma(link=sm.families.links.log())).fit()\n",
    "print(npxG.summary())"
   ]
  },
  {
   "cell_type": "code",
   "execution_count": null,
   "id": "1eaefc7c",
   "metadata": {},
   "outputs": [],
   "source": [
    "# AIC model gamma regression\n",
    "\n",
    "npxG.aic"
   ]
  },
  {
   "cell_type": "code",
   "execution_count": null,
   "id": "2bdf7487",
   "metadata": {},
   "outputs": [],
   "source": [
    "# Distribution Observation Opponent_percent_Pressures vs npxG_Expected\n",
    "\n",
    "plt.figure(figsize=(14,7)) # Make it 14x7 inch\n",
    "\n",
    "plt.style.use('seaborn-whitegrid') # nice and clean grid\n",
    "\n",
    "plt.scatter(train_data['Opponent_percent_Pressures'], train_data['npxG_Expected'], s = 100, facecolor = '#2ab0ff', edgecolor='#169acf', linewidth=0.5)\n",
    "\n",
    "plt.title('O%P vs npxG_Expected', fontsize=35) \n",
    "\n",
    "plt.xlabel('Opponent_percent_Pressures', fontsize=28) \n",
    "\n",
    "plt.ylabel('npxG_Expected', fontsize=28)\n",
    "\n",
    "plt.xticks(fontsize=20)\n",
    "\n",
    "plt.yticks(fontsize=20)\n",
    "\n",
    "plt.show()"
   ]
  },
  {
   "cell_type": "code",
   "execution_count": null,
   "id": "2f82ec05",
   "metadata": {},
   "outputs": [],
   "source": [
    "# Distribution Observation Opponent_percent_Pressures vs npxG_Expected\n",
    "\n",
    "plt.figure(figsize=(14,7)) # Make it 14x7 inch\n",
    "\n",
    "plt.style.use('seaborn-whitegrid') # nice and clean grid\n",
    "\n",
    "plt.scatter(train_data['Att_Pressures'], train_data['npxG_Expected'], s = 100, facecolor = '#2ab0ff', edgecolor='#169acf', linewidth=0.5)\n",
    "\n",
    "plt.title('AP vs npxG_Expected', fontsize=35) \n",
    "\n",
    "plt.xlabel('Att_Pressures', fontsize=28) \n",
    "\n",
    "plt.ylabel('npxG_Expected', fontsize=28)\n",
    "\n",
    "plt.xticks(fontsize=20)\n",
    "\n",
    "plt.yticks(fontsize=20)\n",
    "\n",
    "plt.show()"
   ]
  },
  {
   "cell_type": "code",
   "execution_count": null,
   "id": "7b3a5be5",
   "metadata": {},
   "outputs": [],
   "source": [
    "# Shapiro-Wilk test, H0 : Normal Residuals\n",
    "\n",
    "shapiro(npxG.resid_response)"
   ]
  },
  {
   "cell_type": "code",
   "execution_count": null,
   "id": "045738ca",
   "metadata": {
    "scrolled": false
   },
   "outputs": [],
   "source": [
    "# Residuals distribution from the model npxG_for\n",
    "\n",
    "# Distribution Observation Opponent_percent_Pressures vs npxG_Expected\n",
    "\n",
    "plt.figure(figsize=(14,7)) # Make it 14x7 inch\n",
    "\n",
    "plt.style.use('seaborn-whitegrid') # nice and clean grid\n",
    "\n",
    "plt.hist(npxG.resid_response, bins = 10, facecolor = '#2ab0ff', edgecolor='#169acf', linewidth=0.5)\n",
    "\n",
    "plt.title('Residuals Gamma Regression', fontsize=35) \n",
    "\n",
    "plt.xlabel('Distribution', fontsize=28) \n",
    "\n",
    "plt.ylabel('Frequency', fontsize=28)\n",
    "\n",
    "plt.xticks(fontsize=20)\n",
    "\n",
    "plt.yticks(fontsize=20)\n",
    "\n",
    "plt.show()"
   ]
  },
  {
   "cell_type": "code",
   "execution_count": null,
   "id": "82a43acc",
   "metadata": {},
   "outputs": [],
   "source": [
    "# Test data\n",
    "\n",
    "test_data = Milan.loc[(Milan['Matchweek']>19).values].copy()"
   ]
  },
  {
   "cell_type": "code",
   "execution_count": null,
   "id": "98390310",
   "metadata": {},
   "outputs": [],
   "source": [
    "# Prediction of npxG_Expected from test dataset\n",
    "\n",
    "test_data['npxG_pred'] = npxG.predict(test_data)\n",
    "test_data[['npxG_Expected','npxG_pred']]"
   ]
  },
  {
   "cell_type": "code",
   "execution_count": null,
   "id": "50d77240",
   "metadata": {},
   "outputs": [],
   "source": [
    "# Deviance model npxG\n",
    "\n",
    "D_npxG = mean_gamma_deviance(test_data['npxG_Expected'],test_data['npxG_pred'])\n",
    "D_npxG"
   ]
  },
  {
   "cell_type": "markdown",
   "id": "be90f624",
   "metadata": {},
   "source": [
    "## OUTLIER REMOVAL"
   ]
  },
  {
   "cell_type": "code",
   "execution_count": null,
   "id": "8410dadc",
   "metadata": {
    "scrolled": true
   },
   "outputs": [],
   "source": [
    "# Drop the outlier with the residual value above 0.7 in train data\n",
    "\n",
    "train_data.drop(np.where(npxG.resid_response > 0.7)[0][0], axis=0,inplace=True)"
   ]
  },
  {
   "cell_type": "code",
   "execution_count": null,
   "id": "7eeadf79",
   "metadata": {
    "scrolled": true
   },
   "outputs": [],
   "source": [
    "# Opponent_percent_Pressures*Def_Touches + Milan_Performance + Milan_Cup + Att_Pressures, if it's used the canonical link function (inverse power) we obtain a better CS and deviance\n",
    "\n",
    "npxG_res = smf.glm(formula='npxG_Expected ~ Opponent_percent_Pressures*Def_Touches + Def_Touches + Att_Pressures + Milan_Performance + Milan_Cup', data = train_data, \\\n",
    "             family=sm.families.Gamma(link=sm.families.links.log())).fit()\n",
    "print(npxG_res.summary())"
   ]
  },
  {
   "cell_type": "code",
   "execution_count": null,
   "id": "159db45e",
   "metadata": {},
   "outputs": [],
   "source": [
    "# AIC model outlier removal\n",
    "\n",
    "npxG_res.aic"
   ]
  },
  {
   "cell_type": "code",
   "execution_count": null,
   "id": "123e895e",
   "metadata": {
    "scrolled": false
   },
   "outputs": [],
   "source": [
    "# Distribution residuals from model npxG_Expected forward selection\n",
    "\n",
    "plt.figure(figsize=(14,7)) # Make it 14x7 inch\n",
    "\n",
    "plt.style.use('seaborn-whitegrid') # nice and clean grid\n",
    "\n",
    "plt.hist(npxG_res.resid_response, bins=10, facecolor = '#2ab0ff', edgecolor='#169acf', linewidth=0.5)\n",
    "\n",
    "plt.title('Residuals Outlier Removal ', fontsize=35) \n",
    "\n",
    "plt.xlabel('Distribution', fontsize=28) \n",
    "\n",
    "plt.ylabel('Frequency', fontsize=28)\n",
    "\n",
    "plt.xticks(fontsize=20)\n",
    "\n",
    "plt.yticks(fontsize=20)\n",
    "\n",
    "plt.show()"
   ]
  },
  {
   "cell_type": "code",
   "execution_count": null,
   "id": "fc6a320a",
   "metadata": {},
   "outputs": [],
   "source": [
    "# Shapiro-Wilk test, H0 : Normal Residuals\n",
    "\n",
    "shapiro(npxG_res.resid_response)"
   ]
  },
  {
   "cell_type": "code",
   "execution_count": null,
   "id": "cf0ccb0d",
   "metadata": {},
   "outputs": [],
   "source": [
    "# Test data\n",
    "\n",
    "test_data = Milan.loc[(Milan['Matchweek']>19).values].copy()"
   ]
  },
  {
   "cell_type": "code",
   "execution_count": null,
   "id": "50e82eb9",
   "metadata": {},
   "outputs": [],
   "source": [
    "# Prediction of npxG_Expected from test dataset\n",
    "\n",
    "test_data['npxG_pred'] = npxG_res.predict(test_data)\n",
    "test_data[['npxG_Expected','npxG_pred']]"
   ]
  },
  {
   "cell_type": "code",
   "execution_count": null,
   "id": "821be139",
   "metadata": {},
   "outputs": [],
   "source": [
    "# Deviance model npxG_res\n",
    "\n",
    "D_npxG_res = mean_gamma_deviance(test_data['npxG_Expected'],test_data['npxG_pred'])\n",
    "D_npxG_res"
   ]
  },
  {
   "cell_type": "markdown",
   "id": "e4ef5a64",
   "metadata": {},
   "source": [
    "## INVERSE GAUSSIAN"
   ]
  },
  {
   "cell_type": "code",
   "execution_count": null,
   "id": "c8babe91",
   "metadata": {},
   "outputs": [],
   "source": [
    "train_data = Milan.loc[(Milan['Matchweek']<=19).values].copy()"
   ]
  },
  {
   "cell_type": "code",
   "execution_count": null,
   "id": "4f97e174",
   "metadata": {},
   "outputs": [],
   "source": [
    "# Features selected from the forward selection and correlation with r, if it's used the canonical link function (inverse power) we obtain a better CS and deviance\n",
    "\n",
    "npxG_inv = smf.glm(formula='npxG_Expected ~ Opponent_percent_Pressures*Def_Touches + Att_Pressures + Milan_Performance + Milan_Cup', data = train_data, \\\n",
    "             family=sm.families.InverseGaussian(link=sm.families.links.log())).fit()\n",
    "print(npxG.summary())"
   ]
  },
  {
   "cell_type": "code",
   "execution_count": null,
   "id": "23eed683",
   "metadata": {},
   "outputs": [],
   "source": [
    "# AIC model inverse Gaussian\n",
    "\n",
    "npxG_inv.aic"
   ]
  },
  {
   "cell_type": "code",
   "execution_count": null,
   "id": "8cbd5d63",
   "metadata": {
    "scrolled": false
   },
   "outputs": [],
   "source": [
    "# Distribution residuals from model npxG_Expected forward selection\n",
    "\n",
    "plt.figure(figsize=(14,7)) # Make it 14x7 inch\n",
    "\n",
    "plt.style.use('seaborn-whitegrid') # nice and clean grid\n",
    "\n",
    "plt.hist(npxG_inv.resid_response, bins=10, facecolor = '#2ab0ff', edgecolor='#169acf', linewidth=0.5)\n",
    "\n",
    "plt.title('Residuals Inverse Gamma', fontsize=35) \n",
    "\n",
    "plt.xlabel('Distribution', fontsize=28) \n",
    "\n",
    "plt.ylabel('Frequency', fontsize=28)\n",
    "\n",
    "plt.xticks(fontsize=20)\n",
    "\n",
    "plt.yticks(fontsize=20)\n",
    "\n",
    "plt.show()"
   ]
  },
  {
   "cell_type": "code",
   "execution_count": null,
   "id": "f3c20605",
   "metadata": {},
   "outputs": [],
   "source": [
    "# Shapiro-Wilk test, H0 : Normal Residuals\n",
    "\n",
    "shapiro(npxG_inv.resid_response)"
   ]
  },
  {
   "cell_type": "code",
   "execution_count": null,
   "id": "3bdccc7f",
   "metadata": {},
   "outputs": [],
   "source": [
    "# Test data\n",
    "\n",
    "test_data = Milan.loc[(Milan['Matchweek']>19).values].copy()"
   ]
  },
  {
   "cell_type": "code",
   "execution_count": null,
   "id": "acb81c1b",
   "metadata": {},
   "outputs": [],
   "source": [
    "# Prediction of npxG_Expected from test dataset\n",
    "\n",
    "test_data['npxG_pred'] = npxG_inv.predict(test_data)\n",
    "test_data[['npxG_Expected','npxG_pred']]"
   ]
  },
  {
   "cell_type": "code",
   "execution_count": null,
   "id": "19eceb34",
   "metadata": {},
   "outputs": [],
   "source": [
    "# Deviance model npxG_inv\n",
    "\n",
    "D_npxG_inv = mean_gamma_deviance(test_data['npxG_Expected'],test_data['npxG_pred'])\n",
    "D_npxG_inv"
   ]
  },
  {
   "cell_type": "markdown",
   "id": "5fc75eee",
   "metadata": {},
   "source": [
    "## PREDICTIONS"
   ]
  },
  {
   "cell_type": "code",
   "execution_count": null,
   "id": "18d645d6",
   "metadata": {
    "scrolled": true
   },
   "outputs": [],
   "source": [
    "# Prediction of npxG_Expected for the game Naples VS Milan using mean value of the Rossoneri and opponent team and the model npxG\n",
    "\n",
    "data = {'Opponent_percent_Pressures' : SerieA[SerieA['Team']=='Napoli']['percent_Pressures'].mean(), 'Def_Touches':Milan['Def_Touches'].mean(),\\\n",
    "        'Milan_Performance':[Milan.loc[26,'Milan_Performance']-0.5], 'Milan_Cup':1,'Att_Pressures':Milan['Att_Pressures'].mean()}\n",
    "NapVSMil = pd.DataFrame(data = data)\n",
    "npxG.predict(NapVSMil) # the real one is 1.1 from FBref"
   ]
  },
  {
   "cell_type": "code",
   "execution_count": null,
   "id": "4b7161a6",
   "metadata": {},
   "outputs": [],
   "source": [
    "# Prediction of npxG_Expected for the game Naples VS Milan using real data of the Rossoneri and opponent team and the model npxG\n",
    "\n",
    "data = {'Opponent_percent_Pressures' : 37.1, 'Def_Touches':202,\\\n",
    "        'Milan_Performance':[Milan.loc[26,'Milan_Performance']-0.5], 'Milan_Cup':1,'Att_Pressures':69}\n",
    "NapVSMil = pd.DataFrame(data = data)\n",
    "npxG.predict(NapVSMil) # the real one is 1.1 from FBref"
   ]
  },
  {
   "cell_type": "code",
   "execution_count": null,
   "id": "5bb928cd",
   "metadata": {},
   "outputs": [],
   "source": [
    "# Check the Milan_Perfomance in order to fix the correct value for the next game\n",
    "\n",
    "performance = Milan.loc[26,'Milan_Performance']-0.5\n",
    "performance"
   ]
  },
  {
   "cell_type": "code",
   "execution_count": null,
   "id": "4a36b29c",
   "metadata": {
    "scrolled": true
   },
   "outputs": [],
   "source": [
    "# Update of the statistics for forecasting Milan VS Empoli, adding new row of stats from their last match\n",
    "\n",
    "data = {'Opponent_percent_Pressures' : SerieA[(SerieA['Team']=='Empoli')]['percent_Pressures'].reset_index(drop=True), 'Def_Touches':Milan['Def_Touches'],\\\n",
    "        'Milan_Performance':Milan['Milan_Performance'], 'Milan_Cup':Milan['Milan_Cup'],'Att_Pressures':Milan['Att_Pressures']}\n",
    "df = pd.DataFrame(data = data)\n",
    "df.loc[27,:] = [32.5,202,2,0,69]\n",
    "df"
   ]
  },
  {
   "cell_type": "code",
   "execution_count": null,
   "id": "484ec62d",
   "metadata": {},
   "outputs": [],
   "source": [
    "# Prediction of npxG_Expected for the game Milan VS Empoli using mean value of the Rossoneri and opponent team and the model npxG\n",
    "\n",
    "data = {'Opponent_percent_Pressures' : df['Opponent_percent_Pressures'].mean(), 'Def_Touches':df['Def_Touches'].mean(),\\\n",
    "        'Milan_Performance':[df.loc[27,'Milan_Performance']], 'Milan_Cup':[df.loc[27,'Milan_Cup']],'Att_Pressures':df['Att_Pressures'].mean()}\n",
    "MilVSEmp = pd.DataFrame(data = data)\n",
    "npxG.predict(MilVSEmp) # the real one is 0.7 from FBref"
   ]
  },
  {
   "cell_type": "code",
   "execution_count": null,
   "id": "3e83f51a",
   "metadata": {},
   "outputs": [],
   "source": [
    "# Prediction of npxG_Expected for the game Milan VS Milan using real data of the Rossoneri and opponent team and the model npxG\n",
    "\n",
    "data = {'Opponent_percent_Pressures' : 31.7, 'Def_Touches':211,\\\n",
    "        'Milan_Performance':[df.loc[27,'Milan_Performance']], 'Milan_Cup':[df.loc[27,'Milan_Cup']],'Att_Pressures':50}\n",
    "MilVSEmp = pd.DataFrame(data = data)\n",
    "npxG.predict(MilVSEmp) # the real one is 0.7 from FBref"
   ]
  },
  {
   "cell_type": "code",
   "execution_count": null,
   "id": "353f1af6",
   "metadata": {
    "scrolled": true
   },
   "outputs": [],
   "source": [
    "# Update of the statistics for forecasting Cagliari VS Milan, adding new row of stats from their last match\n",
    "\n",
    "data = {'Opponent_percent_Pressures' : SerieA[(SerieA['Team']=='Cagliari')]['percent_Pressures'].reset_index(drop=True), 'Def_Touches':Milan['Def_Touches'],\\\n",
    "        'Milan_Performance':Milan['Milan_Performance'], 'Milan_Cup':Milan['Milan_Cup'],'Att_Pressures':Milan['Att_Pressures']}\n",
    "df = pd.DataFrame(data = data)\n",
    "df.loc[27,:] = [29.7,202,2,0,69]\n",
    "df.loc[28,:] = [31.3,211,2,0,50]\n",
    "df"
   ]
  },
  {
   "cell_type": "code",
   "execution_count": null,
   "id": "66a6a084",
   "metadata": {},
   "outputs": [],
   "source": [
    "# Prediction of npxG_Expected for the game Cagliari VS Milan using mean value of the Rossoneri and opponent team and the model npxG\n",
    "\n",
    "data = {'Opponent_percent_Pressures' : df['Opponent_percent_Pressures'].mean(), 'Def_Touches':df['Def_Touches'].mean(),\\\n",
    "        'Milan_Performance':[df.loc[28,'Milan_Performance']], 'Milan_Cup':[df.loc[28,'Milan_Cup']],'Att_Pressures':df['Att_Pressures'].mean()}\n",
    "CagVSMil = pd.DataFrame(data = data)\n",
    "npxG.predict(CagVSMil) # the real one is 2.4 from FBref"
   ]
  },
  {
   "cell_type": "code",
   "execution_count": null,
   "id": "56174605",
   "metadata": {},
   "outputs": [],
   "source": [
    "# Prediction of npxG_Expected for the game Cagliari VS Milan using real data of the Rossoneri and opponent team and the model npxG\n",
    "\n",
    "data = {'Opponent_percent_Pressures' : 35.1, 'Def_Touches':203,\\\n",
    "        'Milan_Performance':[2], 'Milan_Cup':0,'Att_Pressures':33}\n",
    "CagVSMil = pd.DataFrame(data = data)\n",
    "npxG.predict(CagVSMil) # the real one is 2.4 from FBref"
   ]
  },
  {
   "cell_type": "code",
   "execution_count": null,
   "id": "6904c311",
   "metadata": {},
   "outputs": [],
   "source": []
  }
 ],
 "metadata": {
  "kernelspec": {
   "display_name": "Python 3 (ipykernel)",
   "language": "python",
   "name": "python3"
  },
  "language_info": {
   "codemirror_mode": {
    "name": "ipython",
    "version": 3
   },
   "file_extension": ".py",
   "mimetype": "text/x-python",
   "name": "python",
   "nbconvert_exporter": "python",
   "pygments_lexer": "ipython3",
   "version": "3.8.8"
  }
 },
 "nbformat": 4,
 "nbformat_minor": 5
}
